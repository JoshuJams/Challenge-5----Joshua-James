{
 "cells": [
  {
   "cell_type": "markdown",
   "metadata": {},
   "source": [
    "# Financial Planning with APIs and Simulations\n",
    "\n",
    "In this Challenge, you’ll create two financial analysis tools by using a single Jupyter notebook:\n",
    "\n",
    "Part 1: A financial planner for emergencies. The members will be able to use this tool to visualize their current savings. The members can then determine if they have enough reserves for an emergency fund.\n",
    "\n",
    "Part 2: A financial planner for retirement. This tool will forecast the performance of their retirement portfolio in 30 years. To do this, the tool will make an Alpaca API call via the Alpaca SDK to get historical price data for use in Monte Carlo simulations.\n",
    "\n",
    "You’ll use the information from the Monte Carlo simulation to answer questions about the portfolio in your Jupyter notebook.\n",
    "\n"
   ]
  },
  {
   "cell_type": "code",
   "execution_count": 61,
   "metadata": {},
   "outputs": [],
   "source": [
    "# Import the required libraries and dependencies\n",
    "import os\n",
    "import requests\n",
    "import json\n",
    "import pandas as pd\n",
    "from dotenv import load_dotenv\n",
    "import alpaca_trade_api as tradeapi\n",
    "from MCForecastTools import MCSimulation\n",
    "import numpy as np\n",
    "\n",
    "%matplotlib inline"
   ]
  },
  {
   "cell_type": "code",
   "execution_count": 62,
   "metadata": {},
   "outputs": [
    {
     "data": {
      "text/plain": [
       "True"
      ]
     },
     "execution_count": 62,
     "metadata": {},
     "output_type": "execute_result"
    }
   ],
   "source": [
    "# Load the environment variables from the .env file\n",
    "#by calling the load_dotenv function\n",
    "load_dotenv('api.env')"
   ]
  },
  {
   "cell_type": "markdown",
   "metadata": {},
   "source": [
    "## Part 1: Create a Financial Planner for Emergencies"
   ]
  },
  {
   "cell_type": "markdown",
   "metadata": {},
   "source": [
    "### Evaluate the Cryptocurrency Wallet by Using the Requests Library\n",
    "\n",
    "In this section, you’ll determine the current value of a member’s cryptocurrency wallet. You’ll collect the current prices for the Bitcoin and Ethereum cryptocurrencies by using the Python Requests library. For the prototype, you’ll assume that the member holds the 1.2 Bitcoins (BTC) and 5.3 Ethereum coins (ETH). To do all this, complete the following steps:\n",
    "\n",
    "1. Create a variable named `monthly_income`, and set its value to `12000`.\n",
    "\n",
    "2. Use the Requests library to get the current price (in US dollars) of Bitcoin (BTC) and Ethereum (ETH) by using the API endpoints that the starter code supplies.\n",
    "\n",
    "3. Navigate the JSON response object to access the current price of each coin, and store each in a variable.\n",
    "\n",
    "    > **Hint** Note the specific identifier for each cryptocurrency in the API JSON response. The Bitcoin identifier is `1`, and the Ethereum identifier is `1027`.\n",
    "\n",
    "4. Calculate the value, in US dollars, of the current amount of each cryptocurrency and of the entire cryptocurrency wallet.\n",
    "\n"
   ]
  },
  {
   "cell_type": "code",
   "execution_count": 3,
   "metadata": {},
   "outputs": [],
   "source": [
    "# The current number of coins for each cryptocurrency asset held in the portfolio.\n",
    "btc_coins = 1.2\n",
    "eth_coins = 5.3"
   ]
  },
  {
   "cell_type": "markdown",
   "metadata": {},
   "source": [
    "#### Step 1: Create a variable named `monthly_income`, and set its value to `12000`."
   ]
  },
  {
   "cell_type": "code",
   "execution_count": 4,
   "metadata": {},
   "outputs": [],
   "source": [
    "# The monthly amount for the member's household income\n",
    "monthly_income = 12000\n"
   ]
  },
  {
   "cell_type": "markdown",
   "metadata": {},
   "source": [
    "#### Review the endpoint URLs for the API calls to Free Crypto API in order to get the current pricing information for both BTC and ETH."
   ]
  },
  {
   "cell_type": "code",
   "execution_count": 5,
   "metadata": {},
   "outputs": [],
   "source": [
    "# The Free Crypto API Call endpoint URLs for the held cryptocurrency assets\n",
    "btc_url = \"https://api.alternative.me/v2/ticker/Bitcoin/?convert=USD\"\n",
    "eth_url = \"https://api.alternative.me/v2/ticker/Ethereum/?convert=USD\""
   ]
  },
  {
   "cell_type": "markdown",
   "metadata": {},
   "source": [
    "#### Step 2. Use the Requests library to get the current price (in US dollars) of Bitcoin (BTC) and Ethereum (ETH) by using the API endpoints that the starter code supplied."
   ]
  },
  {
   "cell_type": "code",
   "execution_count": 6,
   "metadata": {},
   "outputs": [
    {
     "name": "stdout",
     "output_type": "stream",
     "text": [
      "{\n",
      "    \"data\": {\n",
      "        \"1\": {\n",
      "            \"circulating_supply\": 18858143,\n",
      "            \"id\": 1,\n",
      "            \"last_updated\": 1635533064,\n",
      "            \"max_supply\": 21000000,\n",
      "            \"name\": \"Bitcoin\",\n",
      "            \"quotes\": {\n",
      "                \"USD\": {\n",
      "                    \"market_cap\": 1173851271475,\n",
      "                    \"percent_change_1h\": -0.326720816348757,\n",
      "                    \"percent_change_24h\": 5.41861896134385,\n",
      "                    \"percent_change_7d\": -0.480772806781664,\n",
      "                    \"percentage_change_1h\": -0.326720816348757,\n",
      "                    \"percentage_change_24h\": 5.41861896134385,\n",
      "                    \"percentage_change_7d\": -0.480772806781664,\n",
      "                    \"price\": 62240.0,\n",
      "                    \"volume_24h\": 49195356156\n",
      "                }\n",
      "            },\n",
      "            \"rank\": 1,\n",
      "            \"symbol\": \"BTC\",\n",
      "            \"total_supply\": 18858143,\n",
      "            \"website_slug\": \"bitcoin\"\n",
      "        }\n",
      "    },\n",
      "    \"metadata\": {\n",
      "        \"error\": null,\n",
      "        \"num_cryptocurrencies\": 3105,\n",
      "        \"timestamp\": 1635533064\n",
      "    }\n",
      "}\n"
     ]
    }
   ],
   "source": [
    "# Using the Python requests library, make an API call to access the current price of BTC\n",
    "btc_response = requests.get(btc_url).json()\n",
    "\n",
    "# Use the json.dumps function to review the response data from the API call\n",
    "# Use the indent and sort_keys parameters to make the response object readable\n",
    "type(btc_response)\n",
    "\n",
    "print(json.dumps(btc_response, indent=4, sort_keys=True))\n"
   ]
  },
  {
   "cell_type": "code",
   "execution_count": 7,
   "metadata": {},
   "outputs": [
    {
     "name": "stdout",
     "output_type": "stream",
     "text": [
      "{\n",
      "   \"data\": {\n",
      "      \"1027\": {\n",
      "         \"circulating_supply\": 118127513,\n",
      "         \"id\": 1027,\n",
      "         \"last_updated\": 1635533012,\n",
      "         \"max_supply\": 0,\n",
      "         \"name\": \"Ethereum\",\n",
      "         \"quotes\": {\n",
      "            \"USD\": {\n",
      "               \"market_cap\": 519992917627,\n",
      "               \"percent_change_1h\": -0.750505732642882,\n",
      "               \"percent_change_24h\": 6.89259970608255,\n",
      "               \"percent_change_7d\": 7.98370513162288,\n",
      "               \"percentage_change_1h\": -0.750505732642882,\n",
      "               \"percentage_change_24h\": 6.89259970608255,\n",
      "               \"percentage_change_7d\": 7.98370513162288,\n",
      "               \"price\": 4400.18,\n",
      "               \"volume_24h\": 30352649678\n",
      "            }\n",
      "         },\n",
      "         \"rank\": 2,\n",
      "         \"symbol\": \"ETH\",\n",
      "         \"total_supply\": 118127513,\n",
      "         \"website_slug\": \"ethereum\"\n",
      "      }\n",
      "   },\n",
      "   \"metadata\": {\n",
      "      \"error\": null,\n",
      "      \"num_cryptocurrencies\": 3105,\n",
      "      \"timestamp\": 1635533012\n",
      "   }\n",
      "}\n"
     ]
    }
   ],
   "source": [
    "# Using the Python requests library, make an API call to access the current price ETH\n",
    "eth_response = requests.get(eth_url).json()\n",
    "\n",
    "# Use the json.dumps function to review the response data from the API call\n",
    "# Use the indent and sort_keys parameters to make the response object readable\n",
    "type(eth_response)\n",
    "\n",
    "print(json.dumps(eth_response, indent=3, sort_keys=True))\n"
   ]
  },
  {
   "cell_type": "markdown",
   "metadata": {},
   "source": [
    "#### Step 3: Navigate the JSON response object to access the current price of each coin, and store each in a variable."
   ]
  },
  {
   "cell_type": "code",
   "execution_count": 8,
   "metadata": {},
   "outputs": [
    {
     "name": "stdout",
     "output_type": "stream",
     "text": [
      "62240.0\n"
     ]
    }
   ],
   "source": [
    "# Navigate the BTC response object to access the current price of BTC\n",
    "btc_price = btc_response[\"data\"][\"1\"][\"quotes\"][\"USD\"][\"price\"]\n",
    "\n",
    "# Print the current price of BTC\n",
    "print(btc_price)"
   ]
  },
  {
   "cell_type": "code",
   "execution_count": 9,
   "metadata": {},
   "outputs": [
    {
     "name": "stdout",
     "output_type": "stream",
     "text": [
      "4400.18\n"
     ]
    }
   ],
   "source": [
    "# Navigate the BTC response object to access the current price of ETH\n",
    "eth_price = eth_response[\"data\"][\"1027\"][\"quotes\"][\"USD\"][\"price\"]\n",
    "\n",
    "# Print the current price of ETH\n",
    "print(eth_price)\n"
   ]
  },
  {
   "cell_type": "markdown",
   "metadata": {},
   "source": [
    "### Step 4: Calculate the value, in US dollars, of the current amount of each cryptocurrency and of the entire cryptocurrency wallet."
   ]
  },
  {
   "cell_type": "code",
   "execution_count": 10,
   "metadata": {},
   "outputs": [
    {
     "name": "stdout",
     "output_type": "stream",
     "text": [
      "74688.0\n"
     ]
    }
   ],
   "source": [
    "# Compute the current value of the BTC holding \n",
    "btc_value = btc_price * btc_coins\n",
    "\n",
    "# Print current value of your holding in BTC\n",
    "print(btc_value)\n"
   ]
  },
  {
   "cell_type": "code",
   "execution_count": 11,
   "metadata": {},
   "outputs": [
    {
     "name": "stdout",
     "output_type": "stream",
     "text": [
      "23320.954\n"
     ]
    }
   ],
   "source": [
    "# Compute the current value of the ETH holding \n",
    "eth_value = eth_price * eth_coins\n",
    "\n",
    "# Print current value of your holding in ETH\n",
    "print(eth_value)\n"
   ]
  },
  {
   "cell_type": "code",
   "execution_count": 12,
   "metadata": {},
   "outputs": [
    {
     "name": "stdout",
     "output_type": "stream",
     "text": [
      "98008.954\n"
     ]
    }
   ],
   "source": [
    "# Compute the total value of the cryptocurrency wallet\n",
    "# Add the value of the BTC holding to the value of the ETH holding\n",
    "total_crypto_wallet = btc_value + eth_value\n",
    "\n",
    "# Print current cryptocurrency wallet balance\n",
    "print(total_crypto_wallet)\n"
   ]
  },
  {
   "cell_type": "markdown",
   "metadata": {
    "tags": []
   },
   "source": [
    "### Evaluate the Stock and Bond Holdings by Using the Alpaca SDK\n",
    "\n",
    "In this section, you’ll determine the current value of a member’s stock and bond holdings. You’ll make an API call to Alpaca via the Alpaca SDK to get the current closing prices of the SPDR S&P 500 ETF Trust (ticker: SPY) and of the iShares Core US Aggregate Bond ETF (ticker: AGG). For the prototype, assume that the member holds 110 shares of SPY, which represents the stock portion of their portfolio, and 200 shares of AGG, which represents the bond portion. To do all this, complete the following steps:\n",
    "\n",
    "1. In the `Starter_Code` folder, create an environment file (`.env`) to store the values of your Alpaca API key and Alpaca secret key.\n",
    "\n",
    "2. Set the variables for the Alpaca API and secret keys. Using the Alpaca SDK, create the Alpaca `tradeapi.REST` object. In this object, include the parameters for the Alpaca API key, the secret key, and the version number.\n",
    "\n",
    "3. Set the following parameters for the Alpaca API call:\n",
    "\n",
    "    - `tickers`: Use the tickers for the member’s stock and bond holdings.\n",
    "\n",
    "    - `timeframe`: Use a time frame of one day.\n",
    "\n",
    "    - `start_date` and `end_date`: Use the same date for these parameters, and format them with the date of the previous weekday (or `2020-08-07`). This is because you want the one closing price for the most-recent trading day.\n",
    "\n",
    "4. Get the current closing prices for `SPY` and `AGG` by using the Alpaca `get_barset` function. Format the response as a Pandas DataFrame by including the `df` property at the end of the `get_barset` function.\n",
    "\n",
    "5. Navigating the Alpaca response DataFrame, select the `SPY` and `AGG` closing prices, and store them as variables.\n",
    "\n",
    "6. Calculate the value, in US dollars, of the current amount of shares in each of the stock and bond portions of the portfolio, and print the results.\n"
   ]
  },
  {
   "cell_type": "markdown",
   "metadata": {
    "tags": []
   },
   "source": [
    "#### Review the total number of shares held in both (SPY) and (AGG)."
   ]
  },
  {
   "cell_type": "code",
   "execution_count": 13,
   "metadata": {},
   "outputs": [],
   "source": [
    "# Current amount of shares held in both the stock (SPY) and bond (AGG) portion of the portfolio.\n",
    "spy_shares = 110\n",
    "agg_shares = 200\n"
   ]
  },
  {
   "cell_type": "markdown",
   "metadata": {
    "tags": []
   },
   "source": [
    "#### Step 1: In the `Starter_Code` folder, create an environment file (`.env`) to store the values of your Alpaca API key and Alpaca secret key."
   ]
  },
  {
   "cell_type": "markdown",
   "metadata": {
    "tags": []
   },
   "source": [
    "#### Step 2: Set the variables for the Alpaca API and secret keys. Using the Alpaca SDK, create the Alpaca `tradeapi.REST` object. In this object, include the parameters for the Alpaca API key, the secret key, and the version number."
   ]
  },
  {
   "cell_type": "code",
   "execution_count": 14,
   "metadata": {},
   "outputs": [],
   "source": [
    "# Set the variables for the Alpaca API and secret keys\n",
    "alpaca_api_key = os.getenv(\"ALPACA_API_KEY\")\n",
    "alpaca_secret_key = os.getenv(\"ALPACA_SECRET_KEY\")\n",
    "\n",
    "# Create the Alpaca tradeapi.REST object\n",
    "alpaca = tradeapi.REST(\n",
    "    alpaca_api_key,\n",
    "    alpaca_secret_key,\n",
    "    api_version=\"v2\")\n"
   ]
  },
  {
   "cell_type": "markdown",
   "metadata": {},
   "source": [
    "#### Step 3: Set the following parameters for the Alpaca API call:\n",
    "\n",
    "- `tickers`: Use the tickers for the member’s stock and bond holdings.\n",
    "\n",
    "- `timeframe`: Use a time frame of one day.\n",
    "\n",
    "- `start_date` and `end_date`: Use the same date for these parameters, and format them with the date of the previous weekday (or `2020-08-07`). This is because you want the one closing price for the most-recent trading day.\n"
   ]
  },
  {
   "cell_type": "code",
   "execution_count": 15,
   "metadata": {},
   "outputs": [],
   "source": [
    "# Set the tickers for both the bond and stock portion of the portfolio\n",
    "tickers = ['SPY','AGG']\n",
    "\n",
    "# Set timeframe to 1D \n",
    "timeframe = \"1D\"\n",
    "\n",
    "# Format current date as ISO format\n",
    "# Set both the start and end date at the date of your prior weekday \n",
    "# This will give you the closing price of the previous trading day\n",
    "# Alternatively you can use a start and end date of 2020-08-07\n",
    "today = pd.Timestamp(\"2020-10-27\", tz=\"America/New_York\").isoformat()\n",
    "\n",
    "start = pd.Timestamp(\"2020-10-27\", tz=\"America/New_York\").isoformat()\n",
    "end = pd.Timestamp(\"2020-10-27\", tz=\"America/New_York\").isoformat()"
   ]
  },
  {
   "cell_type": "markdown",
   "metadata": {},
   "source": [
    "#### Step 4: Get the current closing prices for `SPY` and `AGG` by using the Alpaca `get_barset` function. Format the response as a Pandas DataFrame by including the `df` property at the end of the `get_barset` function."
   ]
  },
  {
   "cell_type": "code",
   "execution_count": 16,
   "metadata": {},
   "outputs": [
    {
     "data": {
      "text/html": [
       "<div>\n",
       "<style scoped>\n",
       "    .dataframe tbody tr th:only-of-type {\n",
       "        vertical-align: middle;\n",
       "    }\n",
       "\n",
       "    .dataframe tbody tr th {\n",
       "        vertical-align: top;\n",
       "    }\n",
       "\n",
       "    .dataframe thead tr th {\n",
       "        text-align: left;\n",
       "    }\n",
       "\n",
       "    .dataframe thead tr:last-of-type th {\n",
       "        text-align: right;\n",
       "    }\n",
       "</style>\n",
       "<table border=\"1\" class=\"dataframe\">\n",
       "  <thead>\n",
       "    <tr>\n",
       "      <th></th>\n",
       "      <th colspan=\"5\" halign=\"left\">AGG</th>\n",
       "      <th colspan=\"5\" halign=\"left\">SPY</th>\n",
       "    </tr>\n",
       "    <tr>\n",
       "      <th></th>\n",
       "      <th>open</th>\n",
       "      <th>high</th>\n",
       "      <th>low</th>\n",
       "      <th>close</th>\n",
       "      <th>volume</th>\n",
       "      <th>open</th>\n",
       "      <th>high</th>\n",
       "      <th>low</th>\n",
       "      <th>close</th>\n",
       "      <th>volume</th>\n",
       "    </tr>\n",
       "    <tr>\n",
       "      <th>time</th>\n",
       "      <th></th>\n",
       "      <th></th>\n",
       "      <th></th>\n",
       "      <th></th>\n",
       "      <th></th>\n",
       "      <th></th>\n",
       "      <th></th>\n",
       "      <th></th>\n",
       "      <th></th>\n",
       "      <th></th>\n",
       "    </tr>\n",
       "  </thead>\n",
       "  <tbody>\n",
       "    <tr>\n",
       "      <th>2020-10-27 00:00:00-04:00</th>\n",
       "      <td>117.8</td>\n",
       "      <td>117.91</td>\n",
       "      <td>117.7275</td>\n",
       "      <td>117.87</td>\n",
       "      <td>5016038</td>\n",
       "      <td>339.76</td>\n",
       "      <td>340.12</td>\n",
       "      <td>337.99</td>\n",
       "      <td>338.25</td>\n",
       "      <td>50634843</td>\n",
       "    </tr>\n",
       "  </tbody>\n",
       "</table>\n",
       "</div>"
      ],
      "text/plain": [
       "                             AGG                                        SPY  \\\n",
       "                            open    high       low   close   volume    open   \n",
       "time                                                                          \n",
       "2020-10-27 00:00:00-04:00  117.8  117.91  117.7275  117.87  5016038  339.76   \n",
       "\n",
       "                                                             \n",
       "                             high     low   close    volume  \n",
       "time                                                         \n",
       "2020-10-27 00:00:00-04:00  340.12  337.99  338.25  50634843  "
      ]
     },
     "execution_count": 16,
     "metadata": {},
     "output_type": "execute_result"
    }
   ],
   "source": [
    "# Use the Alpaca get_barset function to get current closing prices the portfolio\n",
    "# Be sure to set the `df` property after the function to format the response object as a DataFrame\n",
    "\n",
    "df_portfolio = alpaca.get_barset(\n",
    "    tickers,\n",
    "    timeframe,\n",
    "    start = start,\n",
    "    end = end\n",
    ").df\n",
    "\n",
    "# Review the first 5 rows of the Alpaca DataFrame\n",
    "df_portfolio.head(5)\n"
   ]
  },
  {
   "cell_type": "markdown",
   "metadata": {
    "tags": []
   },
   "source": [
    "#### Step 5: Navigating the Alpaca response DataFrame, select the `SPY` and `AGG` closing prices, and store them as variables."
   ]
  },
  {
   "cell_type": "code",
   "execution_count": 28,
   "metadata": {},
   "outputs": [
    {
     "data": {
      "text/plain": [
       "117.87"
      ]
     },
     "metadata": {},
     "output_type": "display_data"
    }
   ],
   "source": [
    "# Access the closing price for AGG from the Alpaca DataFrame\n",
    "# Converting the value to a floating point number\n",
    "agg_close_price = df_portfolio['AGG']['close']['2020-10-27 00:00:00-04:00']\n",
    "\n",
    "# Print the AGG closing price\n",
    "display(agg_close_price)\n"
   ]
  },
  {
   "cell_type": "code",
   "execution_count": 29,
   "metadata": {},
   "outputs": [
    {
     "data": {
      "text/plain": [
       "338.25"
      ]
     },
     "metadata": {},
     "output_type": "display_data"
    }
   ],
   "source": [
    "# Access the closing price for SPY from the Alpaca DataFrame\n",
    "# Converting the value to a floating point number\n",
    "spy_close_price = df_portfolio['SPY']['close']['2020-10-27 00:00:00-04:00']\n",
    "\n",
    "# Print the SPY closing price\n",
    "display(spy_close_price)\n"
   ]
  },
  {
   "cell_type": "markdown",
   "metadata": {},
   "source": [
    "#### Step 6: Calculate the value, in US dollars, of the current amount of shares in each of the stock and bond portions of the portfolio, and print the results."
   ]
  },
  {
   "cell_type": "code",
   "execution_count": 30,
   "metadata": {},
   "outputs": [
    {
     "data": {
      "text/plain": [
       "23574.0"
      ]
     },
     "execution_count": 30,
     "metadata": {},
     "output_type": "execute_result"
    }
   ],
   "source": [
    "# Calculate the current value of the bond portion of the portfolio\n",
    "agg_value = agg_close_price * agg_shares\n",
    "\n",
    "# Print the current value of the bond portfolio\n",
    "agg_value"
   ]
  },
  {
   "cell_type": "code",
   "execution_count": 31,
   "metadata": {},
   "outputs": [
    {
     "data": {
      "text/plain": [
       "37207.5"
      ]
     },
     "execution_count": 31,
     "metadata": {},
     "output_type": "execute_result"
    }
   ],
   "source": [
    "# Calculate the current value of the stock portion of the portfolio\n",
    "spy_value = spy_close_price * spy_shares\n",
    "\n",
    "# Print the current value of the stock portfolio\n",
    "spy_value"
   ]
  },
  {
   "cell_type": "code",
   "execution_count": 32,
   "metadata": {},
   "outputs": [
    {
     "data": {
      "text/plain": [
       "60781.5"
      ]
     },
     "execution_count": 32,
     "metadata": {},
     "output_type": "execute_result"
    }
   ],
   "source": [
    "# Calculate the total value of the stock and bond portion of the portfolio\n",
    "total_stocks_bonds = spy_value + agg_value\n",
    "\n",
    "# Print the current balance of the stock and bond portion of the portfolio\n",
    "total_stocks_bonds"
   ]
  },
  {
   "cell_type": "code",
   "execution_count": 33,
   "metadata": {},
   "outputs": [
    {
     "data": {
      "text/plain": [
       "158790.454"
      ]
     },
     "execution_count": 33,
     "metadata": {},
     "output_type": "execute_result"
    }
   ],
   "source": [
    "# Calculate the total value of the member's entire savings portfolio\n",
    "# Add the value of the cryptocurrency walled to the value of the total stocks and bonds\n",
    "total_portfolio = total_crypto_wallet + total_stocks_bonds\n",
    "\n",
    "# Print current cryptocurrency wallet balance\n",
    "total_portfolio\n"
   ]
  },
  {
   "cell_type": "markdown",
   "metadata": {},
   "source": [
    "### Evaluate the Emergency Fund\n",
    "\n",
    "In this section, you’ll use the valuations for the cryptocurrency wallet and for the stock and bond portions of the portfolio to determine if the credit union member has enough savings to build an emergency fund into their financial plan. To do this, complete the following steps:\n",
    "\n",
    "1. Create a Python list named `savings_data` that has two elements. The first element contains the total value of the cryptocurrency wallet. The second element contains the total value of the stock and bond portions of the portfolio.\n",
    "\n",
    "2. Use the `savings_data` list to create a Pandas DataFrame named `savings_df`, and then display this DataFrame. The function to create the DataFrame should take the following three parameters:\n",
    "\n",
    "    - `savings_data`: Use the list that you just created.\n",
    "\n",
    "    - `columns`: Set this parameter equal to a Python list with a single value called `amount`.\n",
    "\n",
    "    - `index`: Set this parameter equal to a Python list with the values of `crypto` and `stock/bond`.\n",
    "\n",
    "3. Use the `savings_df` DataFrame to plot a pie chart that visualizes the composition of the member’s portfolio. The y-axis of the pie chart uses `amount`. Be sure to add a title.\n",
    "\n",
    "4. Using Python, determine if the current portfolio has enough to create an emergency fund as part of the member’s financial plan. Ideally, an emergency fund should equal to three times the member’s monthly income. To do this, implement the following steps:\n",
    "\n",
    "    1. Create a variable named `emergency_fund_value`, and set it equal to three times the value of the member’s `monthly_income` of $12000. (You set this earlier in Part 1).\n",
    "\n",
    "    2. Create a series of three if statements to determine if the member’s total portfolio is large enough to fund the emergency portfolio:\n",
    "\n",
    "        1. If the total portfolio value is greater than the emergency fund value, display a message congratulating the member for having enough money in this fund.\n",
    "\n",
    "        2. Else if the total portfolio value is equal to the emergency fund value, display a message congratulating the member on reaching this important financial goal.\n",
    "\n",
    "        3. Else the total portfolio is less than the emergency fund value, so display a message showing how many dollars away the member is from reaching the goal. (Subtract the total portfolio value from the emergency fund value.)\n"
   ]
  },
  {
   "cell_type": "markdown",
   "metadata": {},
   "source": [
    "#### Step 1: Create a Python list named `savings_data` that has two elements. The first element contains the total value of the cryptocurrency wallet. The second element contains the total value of the stock and bond portions of the portfolio."
   ]
  },
  {
   "cell_type": "code",
   "execution_count": 34,
   "metadata": {},
   "outputs": [
    {
     "data": {
      "text/plain": [
       "[98008.954, 60781.5]"
      ]
     },
     "metadata": {},
     "output_type": "display_data"
    }
   ],
   "source": [
    "# Consolidate financial assets data into a Python list\n",
    "savings_data = [total_crypto_wallet , total_stocks_bonds]\n",
    "\n",
    "# Review the Python list savings_data\n",
    "display(savings_data)\n",
    "    "
   ]
  },
  {
   "cell_type": "markdown",
   "metadata": {},
   "source": [
    "#### Step 2: Use the `savings_data` list to create a Pandas DataFrame named `savings_df`, and then display this DataFrame. The function to create the DataFrame should take the following three parameters:\n",
    "\n",
    "- `savings_data`: Use the list that you just created.\n",
    "\n",
    "- `columns`: Set this parameter equal to a Python list with a single value called `amount`.\n",
    "\n",
    "- `index`: Set this parameter equal to a Python list with the values of `crypto` and `stock/bond`.\n"
   ]
  },
  {
   "cell_type": "code",
   "execution_count": 45,
   "metadata": {},
   "outputs": [
    {
     "data": {
      "text/html": [
       "<div>\n",
       "<style scoped>\n",
       "    .dataframe tbody tr th:only-of-type {\n",
       "        vertical-align: middle;\n",
       "    }\n",
       "\n",
       "    .dataframe tbody tr th {\n",
       "        vertical-align: top;\n",
       "    }\n",
       "\n",
       "    .dataframe thead th {\n",
       "        text-align: right;\n",
       "    }\n",
       "</style>\n",
       "<table border=\"1\" class=\"dataframe\">\n",
       "  <thead>\n",
       "    <tr style=\"text-align: right;\">\n",
       "      <th></th>\n",
       "      <th>Amount</th>\n",
       "    </tr>\n",
       "  </thead>\n",
       "  <tbody>\n",
       "    <tr>\n",
       "      <th>Crypto</th>\n",
       "      <td>98008.954</td>\n",
       "    </tr>\n",
       "    <tr>\n",
       "      <th>Stock/Bond</th>\n",
       "      <td>60781.500</td>\n",
       "    </tr>\n",
       "  </tbody>\n",
       "</table>\n",
       "</div>"
      ],
      "text/plain": [
       "               Amount\n",
       "Crypto      98008.954\n",
       "Stock/Bond  60781.500"
      ]
     },
     "execution_count": 45,
     "metadata": {},
     "output_type": "execute_result"
    }
   ],
   "source": [
    "# Create a Pandas DataFrame called savings_df \n",
    "savings_df = pd.DataFrame(data = savings_data , columns = [\"Amount\"], index = ['Crypto' , 'Stock/Bond'])\n",
    "\n",
    "# Display the savings_df DataFrame\n",
    "savings_df\n"
   ]
  },
  {
   "cell_type": "markdown",
   "metadata": {},
   "source": [
    "#### Step 3: Use the `savings_df` DataFrame to plot a pie chart that visualizes the composition of the member’s portfolio. The y-axis of the pie chart uses `amount`. Be sure to add a title."
   ]
  },
  {
   "cell_type": "code",
   "execution_count": 65,
   "metadata": {},
   "outputs": [
    {
     "data": {
      "text/plain": [
       "array([<matplotlib.axes._subplots.AxesSubplot object at 0x000001EE0C4A5988>],\n",
       "      dtype=object)"
      ]
     },
     "execution_count": 65,
     "metadata": {},
     "output_type": "execute_result"
    },
    {
     "data": {
      "image/png": "[encoded data removed]",
      "text/plain": [
       "<Figure size 432x288 with 1 Axes>"
      ]
     },
     "metadata": {},
     "output_type": "display_data"
    }
   ],
   "source": [
    "# Plot the total value of the member's portfolio (crypto and stock/bond) in a pie chart\n",
    "savings_df.plot(kind = 'pie', subplots = True, title = 'Portfolio Balance between Crypto and S&Bs')\n"
   ]
  },
  {
   "cell_type": "markdown",
   "metadata": {},
   "source": [
    "#### Step 4: Using Python, determine if the current portfolio has enough to create an emergency fund as part of the member’s financial plan. Ideally, an emergency fund should equal to three times the member’s monthly income. To do this, implement the following steps:\n",
    "\n",
    "Step 1. Create a variable named `emergency_fund_value`, and set it equal to three times the value of the member’s `monthly_income` of 12000. (You set this earlier in Part 1).\n",
    "\n",
    "Step 2. Create a series of three if statements to determine if the member’s total portfolio is large enough to fund the emergency portfolio:\n",
    "\n",
    "* If the total portfolio value is greater than the emergency fund value, display a message congratulating the member for having enough money in this fund.\n",
    "\n",
    "* Else if the total portfolio value is equal to the emergency fund value, display a message congratulating the member on reaching this important financial goal.\n",
    "\n",
    "* Else the total portfolio is less than the emergency fund value, so display a message showing how many dollars away the member is from reaching the goal. (Subtract the total portfolio value from the emergency fund value.)\n"
   ]
  },
  {
   "cell_type": "markdown",
   "metadata": {},
   "source": [
    "##### Step 4-1: Create a variable named `emergency_fund_value`, and set it equal to three times the value of the member’s `monthly_income` of 12000. (You set this earlier in Part 1)."
   ]
  },
  {
   "cell_type": "code",
   "execution_count": 66,
   "metadata": {},
   "outputs": [],
   "source": [
    "# Create a variable named emergency_fund_value\n",
    "emergency_fund_value = monthly_income * 3\n"
   ]
  },
  {
   "cell_type": "markdown",
   "metadata": {},
   "source": [
    "##### Step 4-2: Create a series of three if statements to determine if the member’s total portfolio is large enough to fund the emergency portfolio:\n",
    "\n",
    "* If the total portfolio value is greater than the emergency fund value, display a message congratulating the member for having enough money in this fund.\n",
    "\n",
    "* Else if the total portfolio value is equal to the emergency fund value, display a message congratulating the member on reaching this important financial goal.\n",
    "\n",
    "* Else the total portfolio is less than the emergency fund value, so display a message showing how many dollars away the member is from reaching the goal. (Subtract the total portfolio value from the emergency fund value.)"
   ]
  },
  {
   "cell_type": "code",
   "execution_count": 69,
   "metadata": {},
   "outputs": [
    {
     "name": "stdout",
     "output_type": "stream",
     "text": [
      "You have enough money for this fund! Congrats!\n"
     ]
    }
   ],
   "source": [
    "# Evaluate the possibility of creating an emergency fund with 3 conditions:\n",
    "if total_portfolio > emergency_fund_value:\n",
    "    print('You have enough money for this fund! Congrats!')\n",
    "elif total_portfolio == emergency_fund_value:\n",
    "    print('You have just enough money to start the emergency fund. Congrats!')\n",
    "else:\n",
    "    dollars_away = emergency_fund_value - total_portfolio\n",
    "    print(\"Ooo... Not quite, you're still\",dollars_away,\"dollars away from creating the emergency fund.\")\n"
   ]
  },
  {
   "cell_type": "markdown",
   "metadata": {},
   "source": [
    "## Part 2: Create a Financial Planner for Retirement"
   ]
  },
  {
   "cell_type": "markdown",
   "metadata": {},
   "source": [
    "### Create the Monte Carlo Simulation\n",
    "\n",
    "In this section, you’ll use the MCForecastTools library to create a Monte Carlo simulation for the member’s savings portfolio. To do this, complete the following steps:\n",
    "\n",
    "1. Make an API call via the Alpaca SDK to get 3 years of historical closing prices for a traditional 60/40 portfolio split: 60% stocks (SPY) and 40% bonds (AGG).\n",
    "\n",
    "2. Run a Monte Carlo simulation of 500 samples and 30 years for the 60/40 portfolio, and then plot the results.The following image shows the overlay line plot resulting from a simulation with these characteristics. However, because a random number generator is used to run each live Monte Carlo simulation, your image will differ slightly from this exact image:\n",
    "\n",
    "![A screenshot depicts the resulting plot.](Images/5-4-monte-carlo-line-plot.png)\n",
    "\n",
    "3. Plot the probability distribution of the Monte Carlo simulation. Plot the probability distribution of the Monte Carlo simulation. The following image shows the histogram plot resulting from a simulation with these characteristics. However, because a random number generator is used to run each live Monte Carlo simulation, your image will differ slightly from this exact image:\n",
    "\n",
    "![A screenshot depicts the histogram plot.](Images/5-4-monte-carlo-histogram.png)\n",
    "\n",
    "4. Generate the summary statistics for the Monte Carlo simulation.\n",
    "\n"
   ]
  },
  {
   "cell_type": "markdown",
   "metadata": {},
   "source": [
    "#### Step 1: Make an API call via the Alpaca SDK to get 3 years of historical closing prices for a traditional 60/40 portfolio split: 60% stocks (SPY) and 40% bonds (AGG)."
   ]
  },
  {
   "cell_type": "code",
   "execution_count": 71,
   "metadata": {},
   "outputs": [],
   "source": [
    "# Set start and end dates of 3 years back from your current date\n",
    "# Alternatively, you can use an end date of 2020-08-07 and work 3 years back from that date \n",
    "start = pd.Timestamp(\"2017-10-27\", tz=\"America/New_York\").isoformat()\n",
    "end = pd.Timestamp(\"2020-10-27\", tz=\"America/New_York\").isoformat()\n",
    "\n",
    "\n",
    "# Set number of rows to 1000 to retrieve the maximum amount of rows\n",
    "rows = 1000"
   ]
  },
  {
   "cell_type": "code",
   "execution_count": 74,
   "metadata": {},
   "outputs": [
    {
     "data": {
      "text/html": [
       "<div>\n",
       "<style scoped>\n",
       "    .dataframe tbody tr th:only-of-type {\n",
       "        vertical-align: middle;\n",
       "    }\n",
       "\n",
       "    .dataframe tbody tr th {\n",
       "        vertical-align: top;\n",
       "    }\n",
       "\n",
       "    .dataframe thead tr th {\n",
       "        text-align: left;\n",
       "    }\n",
       "\n",
       "    .dataframe thead tr:last-of-type th {\n",
       "        text-align: right;\n",
       "    }\n",
       "</style>\n",
       "<table border=\"1\" class=\"dataframe\">\n",
       "  <thead>\n",
       "    <tr>\n",
       "      <th></th>\n",
       "      <th colspan=\"5\" halign=\"left\">AGG</th>\n",
       "      <th colspan=\"5\" halign=\"left\">SPY</th>\n",
       "    </tr>\n",
       "    <tr>\n",
       "      <th></th>\n",
       "      <th>open</th>\n",
       "      <th>high</th>\n",
       "      <th>low</th>\n",
       "      <th>close</th>\n",
       "      <th>volume</th>\n",
       "      <th>open</th>\n",
       "      <th>high</th>\n",
       "      <th>low</th>\n",
       "      <th>close</th>\n",
       "      <th>volume</th>\n",
       "    </tr>\n",
       "    <tr>\n",
       "      <th>time</th>\n",
       "      <th></th>\n",
       "      <th></th>\n",
       "      <th></th>\n",
       "      <th></th>\n",
       "      <th></th>\n",
       "      <th></th>\n",
       "      <th></th>\n",
       "      <th></th>\n",
       "      <th></th>\n",
       "      <th></th>\n",
       "    </tr>\n",
       "  </thead>\n",
       "  <tbody>\n",
       "    <tr>\n",
       "      <th>2020-06-08 00:00:00-04:00</th>\n",
       "      <td>116.81</td>\n",
       "      <td>117.1092</td>\n",
       "      <td>116.7501</td>\n",
       "      <td>117.020</td>\n",
       "      <td>15737748</td>\n",
       "      <td>320.22</td>\n",
       "      <td>323.4100</td>\n",
       "      <td>319.6300</td>\n",
       "      <td>323.25</td>\n",
       "      <td>64329574</td>\n",
       "    </tr>\n",
       "    <tr>\n",
       "      <th>2020-06-09 00:00:00-04:00</th>\n",
       "      <td>117.31</td>\n",
       "      <td>117.3300</td>\n",
       "      <td>117.1900</td>\n",
       "      <td>117.190</td>\n",
       "      <td>10803958</td>\n",
       "      <td>320.30</td>\n",
       "      <td>323.2849</td>\n",
       "      <td>319.3600</td>\n",
       "      <td>320.81</td>\n",
       "      <td>67642220</td>\n",
       "    </tr>\n",
       "    <tr>\n",
       "      <th>2020-06-10 00:00:00-04:00</th>\n",
       "      <td>117.25</td>\n",
       "      <td>117.6800</td>\n",
       "      <td>117.1850</td>\n",
       "      <td>117.665</td>\n",
       "      <td>9007660</td>\n",
       "      <td>321.42</td>\n",
       "      <td>322.3900</td>\n",
       "      <td>318.2209</td>\n",
       "      <td>319.01</td>\n",
       "      <td>84064921</td>\n",
       "    </tr>\n",
       "    <tr>\n",
       "      <th>2020-06-11 00:00:00-04:00</th>\n",
       "      <td>117.73</td>\n",
       "      <td>117.8000</td>\n",
       "      <td>117.4350</td>\n",
       "      <td>117.460</td>\n",
       "      <td>11776174</td>\n",
       "      <td>311.46</td>\n",
       "      <td>312.1500</td>\n",
       "      <td>300.0100</td>\n",
       "      <td>300.62</td>\n",
       "      <td>182628939</td>\n",
       "    </tr>\n",
       "    <tr>\n",
       "      <th>2020-06-12 00:00:00-04:00</th>\n",
       "      <td>117.60</td>\n",
       "      <td>117.7000</td>\n",
       "      <td>117.5700</td>\n",
       "      <td>117.640</td>\n",
       "      <td>1790030</td>\n",
       "      <td>308.24</td>\n",
       "      <td>309.0800</td>\n",
       "      <td>298.6000</td>\n",
       "      <td>304.28</td>\n",
       "      <td>168502612</td>\n",
       "    </tr>\n",
       "  </tbody>\n",
       "</table>\n",
       "</div>"
      ],
      "text/plain": [
       "                              AGG                                         \\\n",
       "                             open      high       low    close    volume   \n",
       "time                                                                       \n",
       "2020-06-08 00:00:00-04:00  116.81  117.1092  116.7501  117.020  15737748   \n",
       "2020-06-09 00:00:00-04:00  117.31  117.3300  117.1900  117.190  10803958   \n",
       "2020-06-10 00:00:00-04:00  117.25  117.6800  117.1850  117.665   9007660   \n",
       "2020-06-11 00:00:00-04:00  117.73  117.8000  117.4350  117.460  11776174   \n",
       "2020-06-12 00:00:00-04:00  117.60  117.7000  117.5700  117.640   1790030   \n",
       "\n",
       "                              SPY                                         \n",
       "                             open      high       low   close     volume  \n",
       "time                                                                      \n",
       "2020-06-08 00:00:00-04:00  320.22  323.4100  319.6300  323.25   64329574  \n",
       "2020-06-09 00:00:00-04:00  320.30  323.2849  319.3600  320.81   67642220  \n",
       "2020-06-10 00:00:00-04:00  321.42  322.3900  318.2209  319.01   84064921  \n",
       "2020-06-11 00:00:00-04:00  311.46  312.1500  300.0100  300.62  182628939  \n",
       "2020-06-12 00:00:00-04:00  308.24  309.0800  298.6000  304.28  168502612  "
      ]
     },
     "metadata": {},
     "output_type": "display_data"
    },
    {
     "data": {
      "text/html": [
       "<div>\n",
       "<style scoped>\n",
       "    .dataframe tbody tr th:only-of-type {\n",
       "        vertical-align: middle;\n",
       "    }\n",
       "\n",
       "    .dataframe tbody tr th {\n",
       "        vertical-align: top;\n",
       "    }\n",
       "\n",
       "    .dataframe thead tr th {\n",
       "        text-align: left;\n",
       "    }\n",
       "\n",
       "    .dataframe thead tr:last-of-type th {\n",
       "        text-align: right;\n",
       "    }\n",
       "</style>\n",
       "<table border=\"1\" class=\"dataframe\">\n",
       "  <thead>\n",
       "    <tr>\n",
       "      <th></th>\n",
       "      <th colspan=\"5\" halign=\"left\">AGG</th>\n",
       "      <th colspan=\"5\" halign=\"left\">SPY</th>\n",
       "    </tr>\n",
       "    <tr>\n",
       "      <th></th>\n",
       "      <th>open</th>\n",
       "      <th>high</th>\n",
       "      <th>low</th>\n",
       "      <th>close</th>\n",
       "      <th>volume</th>\n",
       "      <th>open</th>\n",
       "      <th>high</th>\n",
       "      <th>low</th>\n",
       "      <th>close</th>\n",
       "      <th>volume</th>\n",
       "    </tr>\n",
       "    <tr>\n",
       "      <th>time</th>\n",
       "      <th></th>\n",
       "      <th></th>\n",
       "      <th></th>\n",
       "      <th></th>\n",
       "      <th></th>\n",
       "      <th></th>\n",
       "      <th></th>\n",
       "      <th></th>\n",
       "      <th></th>\n",
       "      <th></th>\n",
       "    </tr>\n",
       "  </thead>\n",
       "  <tbody>\n",
       "    <tr>\n",
       "      <th>2020-10-21 00:00:00-04:00</th>\n",
       "      <td>117.59</td>\n",
       "      <td>117.64</td>\n",
       "      <td>117.4800</td>\n",
       "      <td>117.515</td>\n",
       "      <td>2910530</td>\n",
       "      <td>343.33</td>\n",
       "      <td>345.67</td>\n",
       "      <td>342.40</td>\n",
       "      <td>342.690</td>\n",
       "      <td>46745662</td>\n",
       "    </tr>\n",
       "    <tr>\n",
       "      <th>2020-10-22 00:00:00-04:00</th>\n",
       "      <td>117.51</td>\n",
       "      <td>117.54</td>\n",
       "      <td>117.3000</td>\n",
       "      <td>117.310</td>\n",
       "      <td>3938694</td>\n",
       "      <td>342.96</td>\n",
       "      <td>345.24</td>\n",
       "      <td>340.65</td>\n",
       "      <td>344.630</td>\n",
       "      <td>45094573</td>\n",
       "    </tr>\n",
       "    <tr>\n",
       "      <th>2020-10-23 00:00:00-04:00</th>\n",
       "      <td>117.30</td>\n",
       "      <td>117.52</td>\n",
       "      <td>117.3000</td>\n",
       "      <td>117.470</td>\n",
       "      <td>3482671</td>\n",
       "      <td>345.93</td>\n",
       "      <td>345.99</td>\n",
       "      <td>343.13</td>\n",
       "      <td>345.760</td>\n",
       "      <td>38718140</td>\n",
       "    </tr>\n",
       "    <tr>\n",
       "      <th>2020-10-26 00:00:00-04:00</th>\n",
       "      <td>117.65</td>\n",
       "      <td>117.72</td>\n",
       "      <td>117.5900</td>\n",
       "      <td>117.640</td>\n",
       "      <td>4537207</td>\n",
       "      <td>342.13</td>\n",
       "      <td>342.98</td>\n",
       "      <td>335.62</td>\n",
       "      <td>339.415</td>\n",
       "      <td>79491839</td>\n",
       "    </tr>\n",
       "    <tr>\n",
       "      <th>2020-10-27 00:00:00-04:00</th>\n",
       "      <td>117.80</td>\n",
       "      <td>117.91</td>\n",
       "      <td>117.7275</td>\n",
       "      <td>117.870</td>\n",
       "      <td>5016038</td>\n",
       "      <td>339.76</td>\n",
       "      <td>340.12</td>\n",
       "      <td>337.99</td>\n",
       "      <td>338.250</td>\n",
       "      <td>50634843</td>\n",
       "    </tr>\n",
       "  </tbody>\n",
       "</table>\n",
       "</div>"
      ],
      "text/plain": [
       "                              AGG                                         SPY  \\\n",
       "                             open    high       low    close   volume    open   \n",
       "time                                                                            \n",
       "2020-10-21 00:00:00-04:00  117.59  117.64  117.4800  117.515  2910530  343.33   \n",
       "2020-10-22 00:00:00-04:00  117.51  117.54  117.3000  117.310  3938694  342.96   \n",
       "2020-10-23 00:00:00-04:00  117.30  117.52  117.3000  117.470  3482671  345.93   \n",
       "2020-10-26 00:00:00-04:00  117.65  117.72  117.5900  117.640  4537207  342.13   \n",
       "2020-10-27 00:00:00-04:00  117.80  117.91  117.7275  117.870  5016038  339.76   \n",
       "\n",
       "                                                              \n",
       "                             high     low    close    volume  \n",
       "time                                                          \n",
       "2020-10-21 00:00:00-04:00  345.67  342.40  342.690  46745662  \n",
       "2020-10-22 00:00:00-04:00  345.24  340.65  344.630  45094573  \n",
       "2020-10-23 00:00:00-04:00  345.99  343.13  345.760  38718140  \n",
       "2020-10-26 00:00:00-04:00  342.98  335.62  339.415  79491839  \n",
       "2020-10-27 00:00:00-04:00  340.12  337.99  338.250  50634843  "
      ]
     },
     "metadata": {},
     "output_type": "display_data"
    }
   ],
   "source": [
    "# Use the Alpaca get_barset function to make the API call to get the 3 years worth of pricing data\n",
    "# The tickers and timeframe parameters should have been set in Part 1 of this activity \n",
    "# The start and end dates should be updated with the information set above\n",
    "# Remember to add the df property to the end of the call so the response is returned as a DataFrame\n",
    "df_montecarlo = alpaca.get_barset(\n",
    "    tickers,\n",
    "    timeframe,\n",
    "    start = start,\n",
    "    end = end,\n",
    ").df\n",
    "\n",
    "\n",
    "# Display both the first and last five rows of the DataFrame\n",
    "display(df_montecarlo.head(5))\n",
    "display(df_montecarlo.tail(5))\n"
   ]
  },
  {
   "cell_type": "markdown",
   "metadata": {},
   "source": [
    "#### Step 2: Run a Monte Carlo simulation of 500 samples and 30 years for the 60/40 portfolio, and then plot the results."
   ]
  },
  {
   "cell_type": "code",
   "execution_count": 87,
   "metadata": {},
   "outputs": [
    {
     "data": {
      "text/html": [
       "<div>\n",
       "<style scoped>\n",
       "    .dataframe tbody tr th:only-of-type {\n",
       "        vertical-align: middle;\n",
       "    }\n",
       "\n",
       "    .dataframe tbody tr th {\n",
       "        vertical-align: top;\n",
       "    }\n",
       "\n",
       "    .dataframe thead tr th {\n",
       "        text-align: left;\n",
       "    }\n",
       "\n",
       "    .dataframe thead tr:last-of-type th {\n",
       "        text-align: right;\n",
       "    }\n",
       "</style>\n",
       "<table border=\"1\" class=\"dataframe\">\n",
       "  <thead>\n",
       "    <tr>\n",
       "      <th></th>\n",
       "      <th colspan=\"6\" halign=\"left\">AGG</th>\n",
       "      <th colspan=\"6\" halign=\"left\">SPY</th>\n",
       "    </tr>\n",
       "    <tr>\n",
       "      <th></th>\n",
       "      <th>open</th>\n",
       "      <th>high</th>\n",
       "      <th>low</th>\n",
       "      <th>close</th>\n",
       "      <th>volume</th>\n",
       "      <th>daily_return</th>\n",
       "      <th>open</th>\n",
       "      <th>high</th>\n",
       "      <th>low</th>\n",
       "      <th>close</th>\n",
       "      <th>volume</th>\n",
       "      <th>daily_return</th>\n",
       "    </tr>\n",
       "    <tr>\n",
       "      <th>time</th>\n",
       "      <th></th>\n",
       "      <th></th>\n",
       "      <th></th>\n",
       "      <th></th>\n",
       "      <th></th>\n",
       "      <th></th>\n",
       "      <th></th>\n",
       "      <th></th>\n",
       "      <th></th>\n",
       "      <th></th>\n",
       "      <th></th>\n",
       "      <th></th>\n",
       "    </tr>\n",
       "  </thead>\n",
       "  <tbody>\n",
       "    <tr>\n",
       "      <th>2020-06-08 00:00:00-04:00</th>\n",
       "      <td>116.81</td>\n",
       "      <td>117.1092</td>\n",
       "      <td>116.7501</td>\n",
       "      <td>117.020</td>\n",
       "      <td>15737748</td>\n",
       "      <td>NaN</td>\n",
       "      <td>320.22</td>\n",
       "      <td>323.4100</td>\n",
       "      <td>319.6300</td>\n",
       "      <td>323.25</td>\n",
       "      <td>64329574</td>\n",
       "      <td>NaN</td>\n",
       "    </tr>\n",
       "    <tr>\n",
       "      <th>2020-06-09 00:00:00-04:00</th>\n",
       "      <td>117.31</td>\n",
       "      <td>117.3300</td>\n",
       "      <td>117.1900</td>\n",
       "      <td>117.190</td>\n",
       "      <td>10803958</td>\n",
       "      <td>0.001453</td>\n",
       "      <td>320.30</td>\n",
       "      <td>323.2849</td>\n",
       "      <td>319.3600</td>\n",
       "      <td>320.81</td>\n",
       "      <td>67642220</td>\n",
       "      <td>-0.007548</td>\n",
       "    </tr>\n",
       "    <tr>\n",
       "      <th>2020-06-10 00:00:00-04:00</th>\n",
       "      <td>117.25</td>\n",
       "      <td>117.6800</td>\n",
       "      <td>117.1850</td>\n",
       "      <td>117.665</td>\n",
       "      <td>9007660</td>\n",
       "      <td>0.004053</td>\n",
       "      <td>321.42</td>\n",
       "      <td>322.3900</td>\n",
       "      <td>318.2209</td>\n",
       "      <td>319.01</td>\n",
       "      <td>84064921</td>\n",
       "      <td>-0.005611</td>\n",
       "    </tr>\n",
       "    <tr>\n",
       "      <th>2020-06-11 00:00:00-04:00</th>\n",
       "      <td>117.73</td>\n",
       "      <td>117.8000</td>\n",
       "      <td>117.4350</td>\n",
       "      <td>117.460</td>\n",
       "      <td>11776174</td>\n",
       "      <td>-0.001742</td>\n",
       "      <td>311.46</td>\n",
       "      <td>312.1500</td>\n",
       "      <td>300.0100</td>\n",
       "      <td>300.62</td>\n",
       "      <td>182628939</td>\n",
       "      <td>-0.057647</td>\n",
       "    </tr>\n",
       "    <tr>\n",
       "      <th>2020-06-12 00:00:00-04:00</th>\n",
       "      <td>117.60</td>\n",
       "      <td>117.7000</td>\n",
       "      <td>117.5700</td>\n",
       "      <td>117.640</td>\n",
       "      <td>1790030</td>\n",
       "      <td>0.001532</td>\n",
       "      <td>308.24</td>\n",
       "      <td>309.0800</td>\n",
       "      <td>298.6000</td>\n",
       "      <td>304.28</td>\n",
       "      <td>168502612</td>\n",
       "      <td>0.012175</td>\n",
       "    </tr>\n",
       "  </tbody>\n",
       "</table>\n",
       "</div>"
      ],
      "text/plain": [
       "                              AGG                                         \\\n",
       "                             open      high       low    close    volume   \n",
       "time                                                                       \n",
       "2020-06-08 00:00:00-04:00  116.81  117.1092  116.7501  117.020  15737748   \n",
       "2020-06-09 00:00:00-04:00  117.31  117.3300  117.1900  117.190  10803958   \n",
       "2020-06-10 00:00:00-04:00  117.25  117.6800  117.1850  117.665   9007660   \n",
       "2020-06-11 00:00:00-04:00  117.73  117.8000  117.4350  117.460  11776174   \n",
       "2020-06-12 00:00:00-04:00  117.60  117.7000  117.5700  117.640   1790030   \n",
       "\n",
       "                                           SPY                              \\\n",
       "                          daily_return    open      high       low   close   \n",
       "time                                                                         \n",
       "2020-06-08 00:00:00-04:00          NaN  320.22  323.4100  319.6300  323.25   \n",
       "2020-06-09 00:00:00-04:00     0.001453  320.30  323.2849  319.3600  320.81   \n",
       "2020-06-10 00:00:00-04:00     0.004053  321.42  322.3900  318.2209  319.01   \n",
       "2020-06-11 00:00:00-04:00    -0.001742  311.46  312.1500  300.0100  300.62   \n",
       "2020-06-12 00:00:00-04:00     0.001532  308.24  309.0800  298.6000  304.28   \n",
       "\n",
       "                                                   \n",
       "                              volume daily_return  \n",
       "time                                               \n",
       "2020-06-08 00:00:00-04:00   64329574          NaN  \n",
       "2020-06-09 00:00:00-04:00   67642220    -0.007548  \n",
       "2020-06-10 00:00:00-04:00   84064921    -0.005611  \n",
       "2020-06-11 00:00:00-04:00  182628939    -0.057647  \n",
       "2020-06-12 00:00:00-04:00  168502612     0.012175  "
      ]
     },
     "execution_count": 87,
     "metadata": {},
     "output_type": "execute_result"
    }
   ],
   "source": [
    "# Configure the Monte Carlo simulation to forecast 30 years cumulative returns\n",
    "# The weights should be split 40% to AGG and 60% to SPY.\n",
    "# Run 500 samples.\n",
    "thirty_year_simulation = MCSimulation(\n",
    "    portfolio_data=df_montecarlo,\n",
    "    weights=[0.40, 0.60],\n",
    "    num_simulation=500,\n",
    "    num_trading_days=252*30,\n",
    ")\n",
    "\n",
    "# Review the simulation input data\n",
    "thirty_year_simulation.portfolio_data.head(5)\n"
   ]
  },
  {
   "cell_type": "code",
   "execution_count": 88,
   "metadata": {},
   "outputs": [
    {
     "name": "stdout",
     "output_type": "stream",
     "text": [
      "Running Monte Carlo simulation number 0.\n",
      "Running Monte Carlo simulation number 10.\n",
      "Running Monte Carlo simulation number 20.\n",
      "Running Monte Carlo simulation number 30.\n",
      "Running Monte Carlo simulation number 40.\n",
      "Running Monte Carlo simulation number 50.\n",
      "Running Monte Carlo simulation number 60.\n",
      "Running Monte Carlo simulation number 70.\n",
      "Running Monte Carlo simulation number 80.\n",
      "Running Monte Carlo simulation number 90.\n",
      "Running Monte Carlo simulation number 100.\n"
     ]
    },
    {
     "name": "stderr",
     "output_type": "stream",
     "text": [
      "C:\\Users\\joshu\\Documents\\Coding Magic\\Challenge #5\\MCForecastTools.py:117: PerformanceWarning: DataFrame is highly fragmented.  This is usually the result of calling `frame.insert` many times, which has poor performance.  Consider joining all columns at once using pd.concat(axis=1) instead.  To get a de-fragmented frame, use `newframe = frame.copy()`\n",
      "  portfolio_cumulative_returns[n] = (1 + sim_df.fillna(0)).cumprod()\n"
     ]
    },
    {
     "name": "stdout",
     "output_type": "stream",
     "text": [
      "Running Monte Carlo simulation number 110.\n",
      "Running Monte Carlo simulation number 120.\n",
      "Running Monte Carlo simulation number 130.\n",
      "Running Monte Carlo simulation number 140.\n",
      "Running Monte Carlo simulation number 150.\n",
      "Running Monte Carlo simulation number 160.\n",
      "Running Monte Carlo simulation number 170.\n",
      "Running Monte Carlo simulation number 180.\n",
      "Running Monte Carlo simulation number 190.\n",
      "Running Monte Carlo simulation number 200.\n",
      "Running Monte Carlo simulation number 210.\n",
      "Running Monte Carlo simulation number 220.\n",
      "Running Monte Carlo simulation number 230.\n",
      "Running Monte Carlo simulation number 240.\n",
      "Running Monte Carlo simulation number 250.\n",
      "Running Monte Carlo simulation number 260.\n",
      "Running Monte Carlo simulation number 270.\n",
      "Running Monte Carlo simulation number 280.\n",
      "Running Monte Carlo simulation number 290.\n",
      "Running Monte Carlo simulation number 300.\n",
      "Running Monte Carlo simulation number 310.\n",
      "Running Monte Carlo simulation number 320.\n",
      "Running Monte Carlo simulation number 330.\n",
      "Running Monte Carlo simulation number 340.\n",
      "Running Monte Carlo simulation number 350.\n",
      "Running Monte Carlo simulation number 360.\n",
      "Running Monte Carlo simulation number 370.\n",
      "Running Monte Carlo simulation number 380.\n",
      "Running Monte Carlo simulation number 390.\n",
      "Running Monte Carlo simulation number 400.\n",
      "Running Monte Carlo simulation number 410.\n",
      "Running Monte Carlo simulation number 420.\n",
      "Running Monte Carlo simulation number 430.\n",
      "Running Monte Carlo simulation number 440.\n",
      "Running Monte Carlo simulation number 450.\n",
      "Running Monte Carlo simulation number 460.\n",
      "Running Monte Carlo simulation number 470.\n",
      "Running Monte Carlo simulation number 480.\n",
      "Running Monte Carlo simulation number 490.\n"
     ]
    },
    {
     "data": {
      "text/html": [
       "<div>\n",
       "<style scoped>\n",
       "    .dataframe tbody tr th:only-of-type {\n",
       "        vertical-align: middle;\n",
       "    }\n",
       "\n",
       "    .dataframe tbody tr th {\n",
       "        vertical-align: top;\n",
       "    }\n",
       "\n",
       "    .dataframe thead th {\n",
       "        text-align: right;\n",
       "    }\n",
       "</style>\n",
       "<table border=\"1\" class=\"dataframe\">\n",
       "  <thead>\n",
       "    <tr style=\"text-align: right;\">\n",
       "      <th></th>\n",
       "      <th>0</th>\n",
       "      <th>1</th>\n",
       "      <th>2</th>\n",
       "      <th>3</th>\n",
       "      <th>4</th>\n",
       "      <th>5</th>\n",
       "      <th>6</th>\n",
       "      <th>7</th>\n",
       "      <th>8</th>\n",
       "      <th>9</th>\n",
       "      <th>...</th>\n",
       "      <th>490</th>\n",
       "      <th>491</th>\n",
       "      <th>492</th>\n",
       "      <th>493</th>\n",
       "      <th>494</th>\n",
       "      <th>495</th>\n",
       "      <th>496</th>\n",
       "      <th>497</th>\n",
       "      <th>498</th>\n",
       "      <th>499</th>\n",
       "    </tr>\n",
       "  </thead>\n",
       "  <tbody>\n",
       "    <tr>\n",
       "      <th>0</th>\n",
       "      <td>1.000000</td>\n",
       "      <td>1.000000</td>\n",
       "      <td>1.000000</td>\n",
       "      <td>1.000000</td>\n",
       "      <td>1.000000</td>\n",
       "      <td>1.000000</td>\n",
       "      <td>1.000000</td>\n",
       "      <td>1.000000</td>\n",
       "      <td>1.000000</td>\n",
       "      <td>1.000000</td>\n",
       "      <td>...</td>\n",
       "      <td>1.000000</td>\n",
       "      <td>1.000000</td>\n",
       "      <td>1.000000</td>\n",
       "      <td>1.000000</td>\n",
       "      <td>1.000000</td>\n",
       "      <td>1.000000</td>\n",
       "      <td>1.000000</td>\n",
       "      <td>1.000000</td>\n",
       "      <td>1.000000</td>\n",
       "      <td>1.000000</td>\n",
       "    </tr>\n",
       "    <tr>\n",
       "      <th>1</th>\n",
       "      <td>0.994539</td>\n",
       "      <td>0.997808</td>\n",
       "      <td>0.992938</td>\n",
       "      <td>0.993311</td>\n",
       "      <td>0.997467</td>\n",
       "      <td>1.000311</td>\n",
       "      <td>0.998244</td>\n",
       "      <td>1.003092</td>\n",
       "      <td>1.002192</td>\n",
       "      <td>0.999102</td>\n",
       "      <td>...</td>\n",
       "      <td>1.011058</td>\n",
       "      <td>0.992213</td>\n",
       "      <td>1.006616</td>\n",
       "      <td>0.996554</td>\n",
       "      <td>1.003740</td>\n",
       "      <td>0.995922</td>\n",
       "      <td>0.978021</td>\n",
       "      <td>0.983533</td>\n",
       "      <td>0.993942</td>\n",
       "      <td>1.003637</td>\n",
       "    </tr>\n",
       "    <tr>\n",
       "      <th>2</th>\n",
       "      <td>0.980645</td>\n",
       "      <td>1.006842</td>\n",
       "      <td>0.982244</td>\n",
       "      <td>0.989376</td>\n",
       "      <td>0.995143</td>\n",
       "      <td>0.995794</td>\n",
       "      <td>0.998041</td>\n",
       "      <td>1.008965</td>\n",
       "      <td>0.996774</td>\n",
       "      <td>1.007654</td>\n",
       "      <td>...</td>\n",
       "      <td>1.018203</td>\n",
       "      <td>0.995234</td>\n",
       "      <td>1.013787</td>\n",
       "      <td>0.995989</td>\n",
       "      <td>0.993575</td>\n",
       "      <td>1.005963</td>\n",
       "      <td>0.970285</td>\n",
       "      <td>0.983987</td>\n",
       "      <td>0.991732</td>\n",
       "      <td>1.002288</td>\n",
       "    </tr>\n",
       "    <tr>\n",
       "      <th>3</th>\n",
       "      <td>0.982641</td>\n",
       "      <td>1.013119</td>\n",
       "      <td>0.984921</td>\n",
       "      <td>0.995293</td>\n",
       "      <td>0.994137</td>\n",
       "      <td>0.989583</td>\n",
       "      <td>1.004415</td>\n",
       "      <td>1.006932</td>\n",
       "      <td>0.995105</td>\n",
       "      <td>1.022647</td>\n",
       "      <td>...</td>\n",
       "      <td>1.026908</td>\n",
       "      <td>0.991920</td>\n",
       "      <td>0.998205</td>\n",
       "      <td>1.002567</td>\n",
       "      <td>0.984585</td>\n",
       "      <td>1.023761</td>\n",
       "      <td>0.956772</td>\n",
       "      <td>0.991271</td>\n",
       "      <td>1.001283</td>\n",
       "      <td>0.989199</td>\n",
       "    </tr>\n",
       "    <tr>\n",
       "      <th>4</th>\n",
       "      <td>0.990265</td>\n",
       "      <td>1.005274</td>\n",
       "      <td>0.979085</td>\n",
       "      <td>0.994202</td>\n",
       "      <td>1.001378</td>\n",
       "      <td>0.981039</td>\n",
       "      <td>1.005086</td>\n",
       "      <td>1.007268</td>\n",
       "      <td>0.990623</td>\n",
       "      <td>1.025970</td>\n",
       "      <td>...</td>\n",
       "      <td>1.029236</td>\n",
       "      <td>0.985864</td>\n",
       "      <td>0.992992</td>\n",
       "      <td>1.009241</td>\n",
       "      <td>0.984415</td>\n",
       "      <td>1.024326</td>\n",
       "      <td>0.961697</td>\n",
       "      <td>0.988078</td>\n",
       "      <td>0.988134</td>\n",
       "      <td>0.991387</td>\n",
       "    </tr>\n",
       "    <tr>\n",
       "      <th>...</th>\n",
       "      <td>...</td>\n",
       "      <td>...</td>\n",
       "      <td>...</td>\n",
       "      <td>...</td>\n",
       "      <td>...</td>\n",
       "      <td>...</td>\n",
       "      <td>...</td>\n",
       "      <td>...</td>\n",
       "      <td>...</td>\n",
       "      <td>...</td>\n",
       "      <td>...</td>\n",
       "      <td>...</td>\n",
       "      <td>...</td>\n",
       "      <td>...</td>\n",
       "      <td>...</td>\n",
       "      <td>...</td>\n",
       "      <td>...</td>\n",
       "      <td>...</td>\n",
       "      <td>...</td>\n",
       "      <td>...</td>\n",
       "      <td>...</td>\n",
       "    </tr>\n",
       "    <tr>\n",
       "      <th>7556</th>\n",
       "      <td>16.363051</td>\n",
       "      <td>39.392688</td>\n",
       "      <td>8.443686</td>\n",
       "      <td>3.203570</td>\n",
       "      <td>9.965720</td>\n",
       "      <td>6.425433</td>\n",
       "      <td>31.240654</td>\n",
       "      <td>29.531415</td>\n",
       "      <td>11.539843</td>\n",
       "      <td>11.244516</td>\n",
       "      <td>...</td>\n",
       "      <td>36.348111</td>\n",
       "      <td>14.107282</td>\n",
       "      <td>5.585589</td>\n",
       "      <td>7.295188</td>\n",
       "      <td>7.707199</td>\n",
       "      <td>11.541771</td>\n",
       "      <td>30.663751</td>\n",
       "      <td>11.747630</td>\n",
       "      <td>50.953990</td>\n",
       "      <td>15.930178</td>\n",
       "    </tr>\n",
       "    <tr>\n",
       "      <th>7557</th>\n",
       "      <td>16.363495</td>\n",
       "      <td>39.507288</td>\n",
       "      <td>8.570188</td>\n",
       "      <td>3.195075</td>\n",
       "      <td>10.007234</td>\n",
       "      <td>6.463261</td>\n",
       "      <td>31.190271</td>\n",
       "      <td>29.173033</td>\n",
       "      <td>11.472713</td>\n",
       "      <td>11.165054</td>\n",
       "      <td>...</td>\n",
       "      <td>35.979110</td>\n",
       "      <td>14.186649</td>\n",
       "      <td>5.625276</td>\n",
       "      <td>7.419646</td>\n",
       "      <td>7.790034</td>\n",
       "      <td>11.414701</td>\n",
       "      <td>30.436825</td>\n",
       "      <td>11.675911</td>\n",
       "      <td>50.777553</td>\n",
       "      <td>16.028755</td>\n",
       "    </tr>\n",
       "    <tr>\n",
       "      <th>7558</th>\n",
       "      <td>16.184033</td>\n",
       "      <td>39.372536</td>\n",
       "      <td>8.521256</td>\n",
       "      <td>3.191268</td>\n",
       "      <td>9.988200</td>\n",
       "      <td>6.385772</td>\n",
       "      <td>30.705782</td>\n",
       "      <td>29.227496</td>\n",
       "      <td>11.544808</td>\n",
       "      <td>11.205161</td>\n",
       "      <td>...</td>\n",
       "      <td>36.407164</td>\n",
       "      <td>14.196400</td>\n",
       "      <td>5.727292</td>\n",
       "      <td>7.368390</td>\n",
       "      <td>7.819569</td>\n",
       "      <td>11.422126</td>\n",
       "      <td>30.738572</td>\n",
       "      <td>11.779600</td>\n",
       "      <td>50.413372</td>\n",
       "      <td>16.041624</td>\n",
       "    </tr>\n",
       "    <tr>\n",
       "      <th>7559</th>\n",
       "      <td>16.218299</td>\n",
       "      <td>39.601731</td>\n",
       "      <td>8.611295</td>\n",
       "      <td>3.175365</td>\n",
       "      <td>10.119116</td>\n",
       "      <td>6.418250</td>\n",
       "      <td>31.012817</td>\n",
       "      <td>29.413916</td>\n",
       "      <td>11.505251</td>\n",
       "      <td>11.107836</td>\n",
       "      <td>...</td>\n",
       "      <td>36.670057</td>\n",
       "      <td>14.264764</td>\n",
       "      <td>5.688381</td>\n",
       "      <td>7.399488</td>\n",
       "      <td>7.867718</td>\n",
       "      <td>11.408310</td>\n",
       "      <td>30.635190</td>\n",
       "      <td>11.761954</td>\n",
       "      <td>50.390243</td>\n",
       "      <td>16.135823</td>\n",
       "    </tr>\n",
       "    <tr>\n",
       "      <th>7560</th>\n",
       "      <td>16.311794</td>\n",
       "      <td>40.238134</td>\n",
       "      <td>8.610623</td>\n",
       "      <td>3.188963</td>\n",
       "      <td>10.030651</td>\n",
       "      <td>6.416025</td>\n",
       "      <td>31.101721</td>\n",
       "      <td>29.222449</td>\n",
       "      <td>11.479092</td>\n",
       "      <td>11.162401</td>\n",
       "      <td>...</td>\n",
       "      <td>36.984295</td>\n",
       "      <td>14.422019</td>\n",
       "      <td>5.619540</td>\n",
       "      <td>7.354552</td>\n",
       "      <td>7.981136</td>\n",
       "      <td>11.456951</td>\n",
       "      <td>30.290610</td>\n",
       "      <td>11.878684</td>\n",
       "      <td>50.553074</td>\n",
       "      <td>16.068095</td>\n",
       "    </tr>\n",
       "  </tbody>\n",
       "</table>\n",
       "<p>7561 rows × 500 columns</p>\n",
       "</div>"
      ],
      "text/plain": [
       "            0          1         2         3          4         5    \\\n",
       "0      1.000000   1.000000  1.000000  1.000000   1.000000  1.000000   \n",
       "1      0.994539   0.997808  0.992938  0.993311   0.997467  1.000311   \n",
       "2      0.980645   1.006842  0.982244  0.989376   0.995143  0.995794   \n",
       "3      0.982641   1.013119  0.984921  0.995293   0.994137  0.989583   \n",
       "4      0.990265   1.005274  0.979085  0.994202   1.001378  0.981039   \n",
       "...         ...        ...       ...       ...        ...       ...   \n",
       "7556  16.363051  39.392688  8.443686  3.203570   9.965720  6.425433   \n",
       "7557  16.363495  39.507288  8.570188  3.195075  10.007234  6.463261   \n",
       "7558  16.184033  39.372536  8.521256  3.191268   9.988200  6.385772   \n",
       "7559  16.218299  39.601731  8.611295  3.175365  10.119116  6.418250   \n",
       "7560  16.311794  40.238134  8.610623  3.188963  10.030651  6.416025   \n",
       "\n",
       "            6          7          8          9    ...        490        491  \\\n",
       "0      1.000000   1.000000   1.000000   1.000000  ...   1.000000   1.000000   \n",
       "1      0.998244   1.003092   1.002192   0.999102  ...   1.011058   0.992213   \n",
       "2      0.998041   1.008965   0.996774   1.007654  ...   1.018203   0.995234   \n",
       "3      1.004415   1.006932   0.995105   1.022647  ...   1.026908   0.991920   \n",
       "4      1.005086   1.007268   0.990623   1.025970  ...   1.029236   0.985864   \n",
       "...         ...        ...        ...        ...  ...        ...        ...   \n",
       "7556  31.240654  29.531415  11.539843  11.244516  ...  36.348111  14.107282   \n",
       "7557  31.190271  29.173033  11.472713  11.165054  ...  35.979110  14.186649   \n",
       "7558  30.705782  29.227496  11.544808  11.205161  ...  36.407164  14.196400   \n",
       "7559  31.012817  29.413916  11.505251  11.107836  ...  36.670057  14.264764   \n",
       "7560  31.101721  29.222449  11.479092  11.162401  ...  36.984295  14.422019   \n",
       "\n",
       "           492       493       494        495        496        497  \\\n",
       "0     1.000000  1.000000  1.000000   1.000000   1.000000   1.000000   \n",
       "1     1.006616  0.996554  1.003740   0.995922   0.978021   0.983533   \n",
       "2     1.013787  0.995989  0.993575   1.005963   0.970285   0.983987   \n",
       "3     0.998205  1.002567  0.984585   1.023761   0.956772   0.991271   \n",
       "4     0.992992  1.009241  0.984415   1.024326   0.961697   0.988078   \n",
       "...        ...       ...       ...        ...        ...        ...   \n",
       "7556  5.585589  7.295188  7.707199  11.541771  30.663751  11.747630   \n",
       "7557  5.625276  7.419646  7.790034  11.414701  30.436825  11.675911   \n",
       "7558  5.727292  7.368390  7.819569  11.422126  30.738572  11.779600   \n",
       "7559  5.688381  7.399488  7.867718  11.408310  30.635190  11.761954   \n",
       "7560  5.619540  7.354552  7.981136  11.456951  30.290610  11.878684   \n",
       "\n",
       "            498        499  \n",
       "0      1.000000   1.000000  \n",
       "1      0.993942   1.003637  \n",
       "2      0.991732   1.002288  \n",
       "3      1.001283   0.989199  \n",
       "4      0.988134   0.991387  \n",
       "...         ...        ...  \n",
       "7556  50.953990  15.930178  \n",
       "7557  50.777553  16.028755  \n",
       "7558  50.413372  16.041624  \n",
       "7559  50.390243  16.135823  \n",
       "7560  50.553074  16.068095  \n",
       "\n",
       "[7561 rows x 500 columns]"
      ]
     },
     "execution_count": 88,
     "metadata": {},
     "output_type": "execute_result"
    }
   ],
   "source": [
    "# Run the Monte Carlo simulation to forecast 30 years cumulative returns\n",
    "thirty_year_simulation.calc_cumulative_return()\n"
   ]
  },
  {
   "cell_type": "code",
   "execution_count": 90,
   "metadata": {},
   "outputs": [
    {
     "data": {
      "text/plain": [
       "<matplotlib.axes._subplots.AxesSubplot at 0x1ee0f24a148>"
      ]
     },
     "execution_count": 90,
     "metadata": {},
     "output_type": "execute_result"
    },
    {
     "data": {
      "image/png": "[encoded data removed]",
      "text/plain": [
       "<Figure size 432x288 with 1 Axes>"
      ]
     },
     "metadata": {
      "needs_background": "light"
     },
     "output_type": "display_data"
    }
   ],
   "source": [
    "# Visualize the 30-year Monte Carlo simulation by creating an\n",
    "thirty_year_simulation.plot_simulation()\n"
   ]
  },
  {
   "cell_type": "markdown",
   "metadata": {},
   "source": [
    "#### Step 3: Plot the probability distribution of the Monte Carlo simulation."
   ]
  },
  {
   "cell_type": "code",
   "execution_count": 91,
   "metadata": {},
   "outputs": [
    {
     "data": {
      "text/plain": [
       "<matplotlib.axes._subplots.AxesSubplot at 0x1ee18b64dc8>"
      ]
     },
     "execution_count": 91,
     "metadata": {},
     "output_type": "execute_result"
    },
    {
     "data": {
      "image/png": "[encoded data removed]",
      "text/plain": [
       "<Figure size 432x288 with 1 Axes>"
      ]
     },
     "metadata": {
      "needs_background": "light"
     },
     "output_type": "display_data"
    }
   ],
   "source": [
    "# Visualize the probability distribution of the 30-year Monte Carlo simulation \n",
    "# by plotting a histogram\n",
    "thirty_year_simulation.plot_distribution()\n"
   ]
  },
  {
   "cell_type": "markdown",
   "metadata": {},
   "source": [
    "#### Step 4: Generate the summary statistics for the Monte Carlo simulation."
   ]
  },
  {
   "cell_type": "code",
   "execution_count": 92,
   "metadata": {},
   "outputs": [
    {
     "data": {
      "text/plain": [
       "count           500.000000\n",
       "mean             14.154562\n",
       "std               9.908156\n",
       "min               1.672288\n",
       "25%               7.532499\n",
       "50%              11.480374\n",
       "75%              18.196120\n",
       "max              67.119015\n",
       "95% CI Lower      3.158106\n",
       "95% CI Upper     41.936845\n",
       "Name: 7560, dtype: float64"
      ]
     },
     "execution_count": 92,
     "metadata": {},
     "output_type": "execute_result"
    }
   ],
   "source": [
    "# Generate summary statistics from the 30-year Monte Carlo simulation results\n",
    "# Save the results as a variable\n",
    "thirty_year_simulation_stats = thirty_year_simulation.summarize_cumulative_return()\n",
    "\n",
    "\n",
    "# Review the 30-year Monte Carlo summary statistics\n",
    "thirty_year_simulation_stats"
   ]
  },
  {
   "cell_type": "markdown",
   "metadata": {},
   "source": [
    "### Analyze the Retirement Portfolio Forecasts\n",
    "\n",
    "Using the current value of only the stock and bond portion of the member's portfolio and the summary statistics that you generated from the Monte Carlo simulation, answer the following question in your Jupyter notebook:\n",
    "\n",
    "-  What are the lower and upper bounds for the expected value of the portfolio with a 95% confidence interval?\n"
   ]
  },
  {
   "cell_type": "code",
   "execution_count": 93,
   "metadata": {},
   "outputs": [
    {
     "name": "stdout",
     "output_type": "stream",
     "text": [
      "60781.5\n"
     ]
    }
   ],
   "source": [
    "# Print the current balance of the stock and bond portion of the members portfolio\n",
    "print(total_stocks_bonds)\n"
   ]
  },
  {
   "cell_type": "code",
   "execution_count": 94,
   "metadata": {},
   "outputs": [
    {
     "name": "stdout",
     "output_type": "stream",
     "text": [
      "There is a 95% chance that an initial investment of $60781.5 in the portfolio over the next year will end within in the range of $191954.41 and $2548984.37.\n"
     ]
    }
   ],
   "source": [
    "# Use the lower and upper `95%` confidence intervals to calculate the range of the possible outcomes for the current stock/bond portfolio\n",
    "ci_lower_thirty_cumulative_return = round(thirty_year_simulation_stats[8]*total_stocks_bonds,2)\n",
    "ci_upper_thirty_cumulative_return = round(thirty_year_simulation_stats[9]*total_stocks_bonds,2)\n",
    "\n",
    "# Print the result of your calculations\n",
    "print(f\"There is a 95% chance that an initial investment of ${total_stocks_bonds} in the portfolio\"\n",
    "      f\" over the next year will end within in the range of\"\n",
    "      f\" ${ci_lower_thirty_cumulative_return} and ${ci_upper_thirty_cumulative_return}.\")\n"
   ]
  },
  {
   "cell_type": "markdown",
   "metadata": {},
   "source": [
    "### Forecast Cumulative Returns in 10 Years\n",
    "\n",
    "The CTO of the credit union is impressed with your work on these planning tools but wonders if 30 years is a long time to wait until retirement. So, your next task is to adjust the retirement portfolio and run a new Monte Carlo simulation to find out if the changes will allow members to retire earlier.\n",
    "\n",
    "For this new Monte Carlo simulation, do the following: \n",
    "\n",
    "- Forecast the cumulative returns for 10 years from now. Because of the shortened investment horizon (30 years to 10 years), the portfolio needs to invest more heavily in the riskier asset&mdash;that is, stock&mdash;to help accumulate wealth for retirement. \n",
    "\n",
    "- Adjust the weights of the retirement portfolio so that the composition for the Monte Carlo simulation consists of 20% bonds and 80% stocks. \n",
    "\n",
    "- Run the simulation over 500 samples, and use the same data that the API call to Alpaca generated.\n",
    "\n",
    "- Based on the new Monte Carlo simulation, answer the following questions in your Jupyter notebook:\n",
    "\n",
    "    - Using the current value of only the stock and bond portion of the member's portfolio and the summary statistics that you generated from the new Monte Carlo simulation, what are the lower and upper bounds for the expected value of the portfolio (with the new weights) with a 95% confidence interval?\n",
    "\n",
    "    - Will weighting the portfolio more heavily toward stocks allow the credit union members to retire after only 10 years?\n"
   ]
  },
  {
   "cell_type": "code",
   "execution_count": 96,
   "metadata": {},
   "outputs": [
    {
     "data": {
      "text/html": [
       "<div>\n",
       "<style scoped>\n",
       "    .dataframe tbody tr th:only-of-type {\n",
       "        vertical-align: middle;\n",
       "    }\n",
       "\n",
       "    .dataframe tbody tr th {\n",
       "        vertical-align: top;\n",
       "    }\n",
       "\n",
       "    .dataframe thead tr th {\n",
       "        text-align: left;\n",
       "    }\n",
       "\n",
       "    .dataframe thead tr:last-of-type th {\n",
       "        text-align: right;\n",
       "    }\n",
       "</style>\n",
       "<table border=\"1\" class=\"dataframe\">\n",
       "  <thead>\n",
       "    <tr>\n",
       "      <th></th>\n",
       "      <th colspan=\"6\" halign=\"left\">AGG</th>\n",
       "      <th colspan=\"6\" halign=\"left\">SPY</th>\n",
       "    </tr>\n",
       "    <tr>\n",
       "      <th></th>\n",
       "      <th>open</th>\n",
       "      <th>high</th>\n",
       "      <th>low</th>\n",
       "      <th>close</th>\n",
       "      <th>volume</th>\n",
       "      <th>daily_return</th>\n",
       "      <th>open</th>\n",
       "      <th>high</th>\n",
       "      <th>low</th>\n",
       "      <th>close</th>\n",
       "      <th>volume</th>\n",
       "      <th>daily_return</th>\n",
       "    </tr>\n",
       "    <tr>\n",
       "      <th>time</th>\n",
       "      <th></th>\n",
       "      <th></th>\n",
       "      <th></th>\n",
       "      <th></th>\n",
       "      <th></th>\n",
       "      <th></th>\n",
       "      <th></th>\n",
       "      <th></th>\n",
       "      <th></th>\n",
       "      <th></th>\n",
       "      <th></th>\n",
       "      <th></th>\n",
       "    </tr>\n",
       "  </thead>\n",
       "  <tbody>\n",
       "    <tr>\n",
       "      <th>2020-06-08 00:00:00-04:00</th>\n",
       "      <td>116.81</td>\n",
       "      <td>117.1092</td>\n",
       "      <td>116.7501</td>\n",
       "      <td>117.020</td>\n",
       "      <td>15737748</td>\n",
       "      <td>NaN</td>\n",
       "      <td>320.22</td>\n",
       "      <td>323.4100</td>\n",
       "      <td>319.6300</td>\n",
       "      <td>323.25</td>\n",
       "      <td>64329574</td>\n",
       "      <td>NaN</td>\n",
       "    </tr>\n",
       "    <tr>\n",
       "      <th>2020-06-09 00:00:00-04:00</th>\n",
       "      <td>117.31</td>\n",
       "      <td>117.3300</td>\n",
       "      <td>117.1900</td>\n",
       "      <td>117.190</td>\n",
       "      <td>10803958</td>\n",
       "      <td>0.001453</td>\n",
       "      <td>320.30</td>\n",
       "      <td>323.2849</td>\n",
       "      <td>319.3600</td>\n",
       "      <td>320.81</td>\n",
       "      <td>67642220</td>\n",
       "      <td>-0.007548</td>\n",
       "    </tr>\n",
       "    <tr>\n",
       "      <th>2020-06-10 00:00:00-04:00</th>\n",
       "      <td>117.25</td>\n",
       "      <td>117.6800</td>\n",
       "      <td>117.1850</td>\n",
       "      <td>117.665</td>\n",
       "      <td>9007660</td>\n",
       "      <td>0.004053</td>\n",
       "      <td>321.42</td>\n",
       "      <td>322.3900</td>\n",
       "      <td>318.2209</td>\n",
       "      <td>319.01</td>\n",
       "      <td>84064921</td>\n",
       "      <td>-0.005611</td>\n",
       "    </tr>\n",
       "    <tr>\n",
       "      <th>2020-06-11 00:00:00-04:00</th>\n",
       "      <td>117.73</td>\n",
       "      <td>117.8000</td>\n",
       "      <td>117.4350</td>\n",
       "      <td>117.460</td>\n",
       "      <td>11776174</td>\n",
       "      <td>-0.001742</td>\n",
       "      <td>311.46</td>\n",
       "      <td>312.1500</td>\n",
       "      <td>300.0100</td>\n",
       "      <td>300.62</td>\n",
       "      <td>182628939</td>\n",
       "      <td>-0.057647</td>\n",
       "    </tr>\n",
       "    <tr>\n",
       "      <th>2020-06-12 00:00:00-04:00</th>\n",
       "      <td>117.60</td>\n",
       "      <td>117.7000</td>\n",
       "      <td>117.5700</td>\n",
       "      <td>117.640</td>\n",
       "      <td>1790030</td>\n",
       "      <td>0.001532</td>\n",
       "      <td>308.24</td>\n",
       "      <td>309.0800</td>\n",
       "      <td>298.6000</td>\n",
       "      <td>304.28</td>\n",
       "      <td>168502612</td>\n",
       "      <td>0.012175</td>\n",
       "    </tr>\n",
       "  </tbody>\n",
       "</table>\n",
       "</div>"
      ],
      "text/plain": [
       "                              AGG                                         \\\n",
       "                             open      high       low    close    volume   \n",
       "time                                                                       \n",
       "2020-06-08 00:00:00-04:00  116.81  117.1092  116.7501  117.020  15737748   \n",
       "2020-06-09 00:00:00-04:00  117.31  117.3300  117.1900  117.190  10803958   \n",
       "2020-06-10 00:00:00-04:00  117.25  117.6800  117.1850  117.665   9007660   \n",
       "2020-06-11 00:00:00-04:00  117.73  117.8000  117.4350  117.460  11776174   \n",
       "2020-06-12 00:00:00-04:00  117.60  117.7000  117.5700  117.640   1790030   \n",
       "\n",
       "                                           SPY                              \\\n",
       "                          daily_return    open      high       low   close   \n",
       "time                                                                         \n",
       "2020-06-08 00:00:00-04:00          NaN  320.22  323.4100  319.6300  323.25   \n",
       "2020-06-09 00:00:00-04:00     0.001453  320.30  323.2849  319.3600  320.81   \n",
       "2020-06-10 00:00:00-04:00     0.004053  321.42  322.3900  318.2209  319.01   \n",
       "2020-06-11 00:00:00-04:00    -0.001742  311.46  312.1500  300.0100  300.62   \n",
       "2020-06-12 00:00:00-04:00     0.001532  308.24  309.0800  298.6000  304.28   \n",
       "\n",
       "                                                   \n",
       "                              volume daily_return  \n",
       "time                                               \n",
       "2020-06-08 00:00:00-04:00   64329574          NaN  \n",
       "2020-06-09 00:00:00-04:00   67642220    -0.007548  \n",
       "2020-06-10 00:00:00-04:00   84064921    -0.005611  \n",
       "2020-06-11 00:00:00-04:00  182628939    -0.057647  \n",
       "2020-06-12 00:00:00-04:00  168502612     0.012175  "
      ]
     },
     "execution_count": 96,
     "metadata": {},
     "output_type": "execute_result"
    }
   ],
   "source": [
    "# Configure a Monte Carlo simulation to forecast 10 years cumulative returns\n",
    "# The weights should be split 20% to AGG and 80% to SPY.\n",
    "# Run 500 samples.\n",
    "ten_year_simulation = MCSimulation(\n",
    "    portfolio_data=df_montecarlo,\n",
    "    weights=[0.20, 0.80],\n",
    "    num_simulation=500,\n",
    "    num_trading_days=252*10,\n",
    ")\n",
    "\n",
    "# Review the simulation input data\n",
    "ten_year_simulation.portfolio_data.head(5)\n"
   ]
  },
  {
   "cell_type": "code",
   "execution_count": 97,
   "metadata": {},
   "outputs": [
    {
     "name": "stdout",
     "output_type": "stream",
     "text": [
      "Running Monte Carlo simulation number 0.\n",
      "Running Monte Carlo simulation number 10.\n",
      "Running Monte Carlo simulation number 20.\n",
      "Running Monte Carlo simulation number 30.\n",
      "Running Monte Carlo simulation number 40.\n",
      "Running Monte Carlo simulation number 50.\n",
      "Running Monte Carlo simulation number 60.\n",
      "Running Monte Carlo simulation number 70.\n",
      "Running Monte Carlo simulation number 80.\n",
      "Running Monte Carlo simulation number 90.\n",
      "Running Monte Carlo simulation number 100.\n"
     ]
    },
    {
     "name": "stderr",
     "output_type": "stream",
     "text": [
      "C:\\Users\\joshu\\Documents\\Coding Magic\\Challenge #5\\MCForecastTools.py:117: PerformanceWarning: DataFrame is highly fragmented.  This is usually the result of calling `frame.insert` many times, which has poor performance.  Consider joining all columns at once using pd.concat(axis=1) instead.  To get a de-fragmented frame, use `newframe = frame.copy()`\n",
      "  portfolio_cumulative_returns[n] = (1 + sim_df.fillna(0)).cumprod()\n"
     ]
    },
    {
     "name": "stdout",
     "output_type": "stream",
     "text": [
      "Running Monte Carlo simulation number 110.\n",
      "Running Monte Carlo simulation number 120.\n",
      "Running Monte Carlo simulation number 130.\n",
      "Running Monte Carlo simulation number 140.\n",
      "Running Monte Carlo simulation number 150.\n",
      "Running Monte Carlo simulation number 160.\n",
      "Running Monte Carlo simulation number 170.\n",
      "Running Monte Carlo simulation number 180.\n",
      "Running Monte Carlo simulation number 190.\n",
      "Running Monte Carlo simulation number 200.\n",
      "Running Monte Carlo simulation number 210.\n",
      "Running Monte Carlo simulation number 220.\n",
      "Running Monte Carlo simulation number 230.\n",
      "Running Monte Carlo simulation number 240.\n",
      "Running Monte Carlo simulation number 250.\n",
      "Running Monte Carlo simulation number 260.\n",
      "Running Monte Carlo simulation number 270.\n",
      "Running Monte Carlo simulation number 280.\n",
      "Running Monte Carlo simulation number 290.\n",
      "Running Monte Carlo simulation number 300.\n",
      "Running Monte Carlo simulation number 310.\n",
      "Running Monte Carlo simulation number 320.\n",
      "Running Monte Carlo simulation number 330.\n",
      "Running Monte Carlo simulation number 340.\n",
      "Running Monte Carlo simulation number 350.\n",
      "Running Monte Carlo simulation number 360.\n",
      "Running Monte Carlo simulation number 370.\n",
      "Running Monte Carlo simulation number 380.\n",
      "Running Monte Carlo simulation number 390.\n",
      "Running Monte Carlo simulation number 400.\n",
      "Running Monte Carlo simulation number 410.\n",
      "Running Monte Carlo simulation number 420.\n",
      "Running Monte Carlo simulation number 430.\n",
      "Running Monte Carlo simulation number 440.\n",
      "Running Monte Carlo simulation number 450.\n",
      "Running Monte Carlo simulation number 460.\n",
      "Running Monte Carlo simulation number 470.\n",
      "Running Monte Carlo simulation number 480.\n",
      "Running Monte Carlo simulation number 490.\n"
     ]
    },
    {
     "data": {
      "text/html": [
       "<div>\n",
       "<style scoped>\n",
       "    .dataframe tbody tr th:only-of-type {\n",
       "        vertical-align: middle;\n",
       "    }\n",
       "\n",
       "    .dataframe tbody tr th {\n",
       "        vertical-align: top;\n",
       "    }\n",
       "\n",
       "    .dataframe thead th {\n",
       "        text-align: right;\n",
       "    }\n",
       "</style>\n",
       "<table border=\"1\" class=\"dataframe\">\n",
       "  <thead>\n",
       "    <tr style=\"text-align: right;\">\n",
       "      <th></th>\n",
       "      <th>0</th>\n",
       "      <th>1</th>\n",
       "      <th>2</th>\n",
       "      <th>3</th>\n",
       "      <th>4</th>\n",
       "      <th>5</th>\n",
       "      <th>6</th>\n",
       "      <th>7</th>\n",
       "      <th>8</th>\n",
       "      <th>9</th>\n",
       "      <th>...</th>\n",
       "      <th>490</th>\n",
       "      <th>491</th>\n",
       "      <th>492</th>\n",
       "      <th>493</th>\n",
       "      <th>494</th>\n",
       "      <th>495</th>\n",
       "      <th>496</th>\n",
       "      <th>497</th>\n",
       "      <th>498</th>\n",
       "      <th>499</th>\n",
       "    </tr>\n",
       "  </thead>\n",
       "  <tbody>\n",
       "    <tr>\n",
       "      <th>0</th>\n",
       "      <td>1.000000</td>\n",
       "      <td>1.000000</td>\n",
       "      <td>1.000000</td>\n",
       "      <td>1.000000</td>\n",
       "      <td>1.000000</td>\n",
       "      <td>1.000000</td>\n",
       "      <td>1.000000</td>\n",
       "      <td>1.000000</td>\n",
       "      <td>1.000000</td>\n",
       "      <td>1.000000</td>\n",
       "      <td>...</td>\n",
       "      <td>1.000000</td>\n",
       "      <td>1.000000</td>\n",
       "      <td>1.000000</td>\n",
       "      <td>1.000000</td>\n",
       "      <td>1.000000</td>\n",
       "      <td>1.000000</td>\n",
       "      <td>1.000000</td>\n",
       "      <td>1.000000</td>\n",
       "      <td>1.000000</td>\n",
       "      <td>1.000000</td>\n",
       "    </tr>\n",
       "    <tr>\n",
       "      <th>1</th>\n",
       "      <td>1.003300</td>\n",
       "      <td>0.983486</td>\n",
       "      <td>1.009014</td>\n",
       "      <td>0.989958</td>\n",
       "      <td>1.004367</td>\n",
       "      <td>1.006733</td>\n",
       "      <td>1.002433</td>\n",
       "      <td>1.016513</td>\n",
       "      <td>0.997116</td>\n",
       "      <td>0.981650</td>\n",
       "      <td>...</td>\n",
       "      <td>0.996961</td>\n",
       "      <td>1.000471</td>\n",
       "      <td>1.013127</td>\n",
       "      <td>0.981205</td>\n",
       "      <td>0.994000</td>\n",
       "      <td>0.981356</td>\n",
       "      <td>1.004186</td>\n",
       "      <td>1.025206</td>\n",
       "      <td>0.985300</td>\n",
       "      <td>0.994331</td>\n",
       "    </tr>\n",
       "    <tr>\n",
       "      <th>2</th>\n",
       "      <td>1.001309</td>\n",
       "      <td>0.996194</td>\n",
       "      <td>1.014011</td>\n",
       "      <td>0.985184</td>\n",
       "      <td>0.989960</td>\n",
       "      <td>0.988007</td>\n",
       "      <td>1.003677</td>\n",
       "      <td>1.013476</td>\n",
       "      <td>0.994317</td>\n",
       "      <td>0.983258</td>\n",
       "      <td>...</td>\n",
       "      <td>1.015443</td>\n",
       "      <td>1.001764</td>\n",
       "      <td>1.017107</td>\n",
       "      <td>0.984618</td>\n",
       "      <td>0.984334</td>\n",
       "      <td>0.967511</td>\n",
       "      <td>0.998455</td>\n",
       "      <td>1.021479</td>\n",
       "      <td>0.991490</td>\n",
       "      <td>0.986917</td>\n",
       "    </tr>\n",
       "    <tr>\n",
       "      <th>3</th>\n",
       "      <td>0.997549</td>\n",
       "      <td>0.997282</td>\n",
       "      <td>1.022623</td>\n",
       "      <td>0.998562</td>\n",
       "      <td>0.987699</td>\n",
       "      <td>0.978725</td>\n",
       "      <td>0.999591</td>\n",
       "      <td>1.010369</td>\n",
       "      <td>0.999082</td>\n",
       "      <td>0.988334</td>\n",
       "      <td>...</td>\n",
       "      <td>1.020510</td>\n",
       "      <td>1.012278</td>\n",
       "      <td>1.027504</td>\n",
       "      <td>0.976032</td>\n",
       "      <td>0.976082</td>\n",
       "      <td>0.958378</td>\n",
       "      <td>0.997374</td>\n",
       "      <td>1.032537</td>\n",
       "      <td>0.981838</td>\n",
       "      <td>0.994383</td>\n",
       "    </tr>\n",
       "    <tr>\n",
       "      <th>4</th>\n",
       "      <td>1.008193</td>\n",
       "      <td>1.015631</td>\n",
       "      <td>1.016648</td>\n",
       "      <td>0.999032</td>\n",
       "      <td>0.975075</td>\n",
       "      <td>0.980259</td>\n",
       "      <td>0.982450</td>\n",
       "      <td>1.027260</td>\n",
       "      <td>1.002270</td>\n",
       "      <td>0.984184</td>\n",
       "      <td>...</td>\n",
       "      <td>1.032146</td>\n",
       "      <td>1.013572</td>\n",
       "      <td>1.035391</td>\n",
       "      <td>0.974484</td>\n",
       "      <td>0.991457</td>\n",
       "      <td>0.963893</td>\n",
       "      <td>0.999595</td>\n",
       "      <td>1.013123</td>\n",
       "      <td>0.991991</td>\n",
       "      <td>0.999087</td>\n",
       "    </tr>\n",
       "    <tr>\n",
       "      <th>...</th>\n",
       "      <td>...</td>\n",
       "      <td>...</td>\n",
       "      <td>...</td>\n",
       "      <td>...</td>\n",
       "      <td>...</td>\n",
       "      <td>...</td>\n",
       "      <td>...</td>\n",
       "      <td>...</td>\n",
       "      <td>...</td>\n",
       "      <td>...</td>\n",
       "      <td>...</td>\n",
       "      <td>...</td>\n",
       "      <td>...</td>\n",
       "      <td>...</td>\n",
       "      <td>...</td>\n",
       "      <td>...</td>\n",
       "      <td>...</td>\n",
       "      <td>...</td>\n",
       "      <td>...</td>\n",
       "      <td>...</td>\n",
       "      <td>...</td>\n",
       "    </tr>\n",
       "    <tr>\n",
       "      <th>2516</th>\n",
       "      <td>1.890645</td>\n",
       "      <td>3.589180</td>\n",
       "      <td>1.493404</td>\n",
       "      <td>3.222373</td>\n",
       "      <td>3.014711</td>\n",
       "      <td>1.744397</td>\n",
       "      <td>2.929913</td>\n",
       "      <td>2.642266</td>\n",
       "      <td>2.967143</td>\n",
       "      <td>1.450619</td>\n",
       "      <td>...</td>\n",
       "      <td>3.621379</td>\n",
       "      <td>1.554780</td>\n",
       "      <td>2.678196</td>\n",
       "      <td>3.870517</td>\n",
       "      <td>4.005809</td>\n",
       "      <td>5.402003</td>\n",
       "      <td>4.683236</td>\n",
       "      <td>1.282166</td>\n",
       "      <td>4.929339</td>\n",
       "      <td>0.939061</td>\n",
       "    </tr>\n",
       "    <tr>\n",
       "      <th>2517</th>\n",
       "      <td>1.903554</td>\n",
       "      <td>3.537108</td>\n",
       "      <td>1.496890</td>\n",
       "      <td>3.199090</td>\n",
       "      <td>3.042454</td>\n",
       "      <td>1.756069</td>\n",
       "      <td>2.976261</td>\n",
       "      <td>2.702603</td>\n",
       "      <td>3.001465</td>\n",
       "      <td>1.437019</td>\n",
       "      <td>...</td>\n",
       "      <td>3.570569</td>\n",
       "      <td>1.566350</td>\n",
       "      <td>2.693507</td>\n",
       "      <td>3.889058</td>\n",
       "      <td>3.988408</td>\n",
       "      <td>5.424071</td>\n",
       "      <td>4.745403</td>\n",
       "      <td>1.277633</td>\n",
       "      <td>4.908716</td>\n",
       "      <td>0.946007</td>\n",
       "    </tr>\n",
       "    <tr>\n",
       "      <th>2518</th>\n",
       "      <td>1.908117</td>\n",
       "      <td>3.553822</td>\n",
       "      <td>1.526324</td>\n",
       "      <td>3.219993</td>\n",
       "      <td>3.091741</td>\n",
       "      <td>1.799719</td>\n",
       "      <td>2.980543</td>\n",
       "      <td>2.737345</td>\n",
       "      <td>3.022640</td>\n",
       "      <td>1.425028</td>\n",
       "      <td>...</td>\n",
       "      <td>3.602723</td>\n",
       "      <td>1.587645</td>\n",
       "      <td>2.645516</td>\n",
       "      <td>3.934965</td>\n",
       "      <td>3.960439</td>\n",
       "      <td>5.391510</td>\n",
       "      <td>4.757584</td>\n",
       "      <td>1.279495</td>\n",
       "      <td>4.962846</td>\n",
       "      <td>0.938690</td>\n",
       "    </tr>\n",
       "    <tr>\n",
       "      <th>2519</th>\n",
       "      <td>1.885172</td>\n",
       "      <td>3.555941</td>\n",
       "      <td>1.510584</td>\n",
       "      <td>3.277369</td>\n",
       "      <td>3.072554</td>\n",
       "      <td>1.814945</td>\n",
       "      <td>2.985022</td>\n",
       "      <td>2.738758</td>\n",
       "      <td>3.018047</td>\n",
       "      <td>1.424091</td>\n",
       "      <td>...</td>\n",
       "      <td>3.585756</td>\n",
       "      <td>1.590438</td>\n",
       "      <td>2.682154</td>\n",
       "      <td>3.945411</td>\n",
       "      <td>3.999176</td>\n",
       "      <td>5.485195</td>\n",
       "      <td>4.784870</td>\n",
       "      <td>1.284299</td>\n",
       "      <td>4.921764</td>\n",
       "      <td>0.933559</td>\n",
       "    </tr>\n",
       "    <tr>\n",
       "      <th>2520</th>\n",
       "      <td>1.872011</td>\n",
       "      <td>3.553600</td>\n",
       "      <td>1.536493</td>\n",
       "      <td>3.255817</td>\n",
       "      <td>3.040131</td>\n",
       "      <td>1.819368</td>\n",
       "      <td>2.997134</td>\n",
       "      <td>2.744301</td>\n",
       "      <td>3.009749</td>\n",
       "      <td>1.418255</td>\n",
       "      <td>...</td>\n",
       "      <td>3.538004</td>\n",
       "      <td>1.590418</td>\n",
       "      <td>2.723143</td>\n",
       "      <td>3.990128</td>\n",
       "      <td>3.960258</td>\n",
       "      <td>5.476163</td>\n",
       "      <td>4.825504</td>\n",
       "      <td>1.276862</td>\n",
       "      <td>4.881537</td>\n",
       "      <td>0.957849</td>\n",
       "    </tr>\n",
       "  </tbody>\n",
       "</table>\n",
       "<p>2521 rows × 500 columns</p>\n",
       "</div>"
      ],
      "text/plain": [
       "           0         1         2         3         4         5         6    \\\n",
       "0     1.000000  1.000000  1.000000  1.000000  1.000000  1.000000  1.000000   \n",
       "1     1.003300  0.983486  1.009014  0.989958  1.004367  1.006733  1.002433   \n",
       "2     1.001309  0.996194  1.014011  0.985184  0.989960  0.988007  1.003677   \n",
       "3     0.997549  0.997282  1.022623  0.998562  0.987699  0.978725  0.999591   \n",
       "4     1.008193  1.015631  1.016648  0.999032  0.975075  0.980259  0.982450   \n",
       "...        ...       ...       ...       ...       ...       ...       ...   \n",
       "2516  1.890645  3.589180  1.493404  3.222373  3.014711  1.744397  2.929913   \n",
       "2517  1.903554  3.537108  1.496890  3.199090  3.042454  1.756069  2.976261   \n",
       "2518  1.908117  3.553822  1.526324  3.219993  3.091741  1.799719  2.980543   \n",
       "2519  1.885172  3.555941  1.510584  3.277369  3.072554  1.814945  2.985022   \n",
       "2520  1.872011  3.553600  1.536493  3.255817  3.040131  1.819368  2.997134   \n",
       "\n",
       "           7         8         9    ...       490       491       492  \\\n",
       "0     1.000000  1.000000  1.000000  ...  1.000000  1.000000  1.000000   \n",
       "1     1.016513  0.997116  0.981650  ...  0.996961  1.000471  1.013127   \n",
       "2     1.013476  0.994317  0.983258  ...  1.015443  1.001764  1.017107   \n",
       "3     1.010369  0.999082  0.988334  ...  1.020510  1.012278  1.027504   \n",
       "4     1.027260  1.002270  0.984184  ...  1.032146  1.013572  1.035391   \n",
       "...        ...       ...       ...  ...       ...       ...       ...   \n",
       "2516  2.642266  2.967143  1.450619  ...  3.621379  1.554780  2.678196   \n",
       "2517  2.702603  3.001465  1.437019  ...  3.570569  1.566350  2.693507   \n",
       "2518  2.737345  3.022640  1.425028  ...  3.602723  1.587645  2.645516   \n",
       "2519  2.738758  3.018047  1.424091  ...  3.585756  1.590438  2.682154   \n",
       "2520  2.744301  3.009749  1.418255  ...  3.538004  1.590418  2.723143   \n",
       "\n",
       "           493       494       495       496       497       498       499  \n",
       "0     1.000000  1.000000  1.000000  1.000000  1.000000  1.000000  1.000000  \n",
       "1     0.981205  0.994000  0.981356  1.004186  1.025206  0.985300  0.994331  \n",
       "2     0.984618  0.984334  0.967511  0.998455  1.021479  0.991490  0.986917  \n",
       "3     0.976032  0.976082  0.958378  0.997374  1.032537  0.981838  0.994383  \n",
       "4     0.974484  0.991457  0.963893  0.999595  1.013123  0.991991  0.999087  \n",
       "...        ...       ...       ...       ...       ...       ...       ...  \n",
       "2516  3.870517  4.005809  5.402003  4.683236  1.282166  4.929339  0.939061  \n",
       "2517  3.889058  3.988408  5.424071  4.745403  1.277633  4.908716  0.946007  \n",
       "2518  3.934965  3.960439  5.391510  4.757584  1.279495  4.962846  0.938690  \n",
       "2519  3.945411  3.999176  5.485195  4.784870  1.284299  4.921764  0.933559  \n",
       "2520  3.990128  3.960258  5.476163  4.825504  1.276862  4.881537  0.957849  \n",
       "\n",
       "[2521 rows x 500 columns]"
      ]
     },
     "execution_count": 97,
     "metadata": {},
     "output_type": "execute_result"
    }
   ],
   "source": [
    "# Run the Monte Carlo simulation to forecast 10 years cumulative returns\n",
    "ten_year_simulation.calc_cumulative_return()\n"
   ]
  },
  {
   "cell_type": "code",
   "execution_count": 98,
   "metadata": {},
   "outputs": [
    {
     "data": {
      "text/plain": [
       "<matplotlib.axes._subplots.AxesSubplot at 0x1ee18b70d48>"
      ]
     },
     "execution_count": 98,
     "metadata": {},
     "output_type": "execute_result"
    },
    {
     "data": {
      "image/png": "[encoded data removed]",
      "text/plain": [
       "<Figure size 432x288 with 1 Axes>"
      ]
     },
     "metadata": {
      "needs_background": "light"
     },
     "output_type": "display_data"
    }
   ],
   "source": [
    "# Visualize the 10-year Monte Carlo simulation by creating an\n",
    "# overlay line plot\n",
    "ten_year_simulation.plot_simulation()\n"
   ]
  },
  {
   "cell_type": "code",
   "execution_count": 99,
   "metadata": {},
   "outputs": [
    {
     "data": {
      "text/plain": [
       "<matplotlib.axes._subplots.AxesSubplot at 0x1ee1918c9c8>"
      ]
     },
     "execution_count": 99,
     "metadata": {},
     "output_type": "execute_result"
    },
    {
     "data": {
      "image/png": "[encoded data removed]",
      "text/plain": [
       "<Figure size 432x288 with 1 Axes>"
      ]
     },
     "metadata": {
      "needs_background": "light"
     },
     "output_type": "display_data"
    }
   ],
   "source": [
    "# Visualize the probability distribution of the 10-year Monte Carlo simulation \n",
    "# by plotting a histogram\n",
    "ten_year_simulation.plot_distribution()\n"
   ]
  },
  {
   "cell_type": "code",
   "execution_count": 100,
   "metadata": {},
   "outputs": [
    {
     "data": {
      "text/plain": [
       "count           500.000000\n",
       "mean              2.896312\n",
       "std               1.493965\n",
       "min               0.580740\n",
       "25%               1.874742\n",
       "50%               2.529302\n",
       "75%               3.645740\n",
       "max               9.984523\n",
       "95% CI Lower      0.955329\n",
       "95% CI Upper      6.498144\n",
       "Name: 2520, dtype: float64"
      ]
     },
     "execution_count": 100,
     "metadata": {},
     "output_type": "execute_result"
    }
   ],
   "source": [
    "# Generate summary statistics from the 10-year Monte Carlo simulation results\n",
    "# Save the results as a variable\n",
    "ten_year_simulation_stats = ten_year_simulation.summarize_cumulative_return()\n",
    "\n",
    "# Review the 10-year Monte Carlo summary statistics\n",
    "ten_year_simulation_stats"
   ]
  },
  {
   "cell_type": "markdown",
   "metadata": {},
   "source": [
    "### Answer the following questions:"
   ]
  },
  {
   "cell_type": "markdown",
   "metadata": {},
   "source": [
    "#### Question: Using the current value of only the stock and bond portion of the member's portfolio and the summary statistics that you generated from the new Monte Carlo simulation, what are the lower and upper bounds for the expected value of the portfolio (with the new weights) with a 95% confidence interval?"
   ]
  },
  {
   "cell_type": "code",
   "execution_count": 101,
   "metadata": {},
   "outputs": [
    {
     "name": "stdout",
     "output_type": "stream",
     "text": [
      "60781.5\n"
     ]
    }
   ],
   "source": [
    "# Print the current balance of the stock and bond portion of the members portfolio\n",
    "print(total_stocks_bonds)\n"
   ]
  },
  {
   "cell_type": "code",
   "execution_count": 102,
   "metadata": {},
   "outputs": [
    {
     "name": "stdout",
     "output_type": "stream",
     "text": [
      "There is a 95% chance that an initial investment of $60781.5 in the portfolio over the next year will end within in the range of $58066.33 and $394966.91.\n"
     ]
    }
   ],
   "source": [
    "# Use the lower and upper `95%` confidence intervals to calculate the range of the possible outcomes for the current stock/bond portfolio\n",
    "ci_lower_ten_cumulative_return = round(ten_year_simulation_stats[8]*total_stocks_bonds,2)\n",
    "ci_upper_ten_cumulative_return = round(ten_year_simulation_stats[9]*total_stocks_bonds,2)\n",
    "\n",
    "# Print the result of your calculations\n",
    "print(f\"There is a 95% chance that an initial investment of ${total_stocks_bonds} in the portfolio\"\n",
    "      f\" over the next year will end within in the range of\"\n",
    "      f\" ${ci_lower_ten_cumulative_return} and ${ci_upper_ten_cumulative_return}.\")\n"
   ]
  },
  {
   "cell_type": "markdown",
   "metadata": {},
   "source": [
    "#### Question: Will weighting the portfolio more heavily to stocks allow the credit union members to retire after only 10 years?"
   ]
  },
  {
   "cell_type": "raw",
   "metadata": {},
   "source": [
    "**Answer** I have reason to believe that if the portfolio leaned more heavily into stocks the credit union members would b eable to retire after 10 years."
   ]
  },
  {
   "cell_type": "code",
   "execution_count": null,
   "metadata": {},
   "outputs": [],
   "source": []
  }
 ],
 "metadata": {
  "kernelspec": {
   "display_name": "Python 3",
   "language": "python",
   "name": "python3"
  },
  "language_info": {
   "codemirror_mode": {
    "name": "ipython",
    "version": 3
   },
   "file_extension": ".py",
   "mimetype": "text/x-python",
   "name": "python",
   "nbconvert_exporter": "python",
   "pygments_lexer": "ipython3",
   "version": "3.7.6"
  }
 },
 "nbformat": 4,
 "nbformat_minor": 4
}
